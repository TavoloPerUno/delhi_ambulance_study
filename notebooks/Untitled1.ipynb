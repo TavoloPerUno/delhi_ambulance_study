{
 "cells": [
  {
   "cell_type": "code",
   "execution_count": 1,
   "metadata": {},
   "outputs": [],
   "source": [
    "def find_vol(target_value, call_put, S, K, T, r):\n",
    "    MAX_ITERATIONS = 100\n",
    "    PRECISION = 1.0e-5\n",
    "\n",
    "    sigma = 0.5\n",
    "    for i in xrange(0, MAX_ITERATIONS):\n",
    "        price = bs_price(call_put, S, K, T, r, sigma)\n",
    "        vega = bs_vega(call_put, S, K, T, r, sigma)\n",
    "\n",
    "        price = price\n",
    "        diff = target_value - price  # our root\n",
    "\n",
    "        print i, sigma, diff\n",
    "\n",
    "        if (abs(diff) < PRECISION):\n",
    "            return sigma\n",
    "        sigma = sigma + diff/vega # f(x) / f'(x)\n",
    "\n",
    "    # value wasn't found, return best guess so far\n",
    "    return sigma"
   ]
  },
  {
   "cell_type": "code",
   "execution_count": 10,
   "metadata": {},
   "outputs": [],
   "source": [
    "from scipy.stats import norm\n",
    "from math import log, sqrt, exp\n",
    "\n",
    "n = norm.pdf\n",
    "N = norm.cdf\n",
    "\n",
    "def bs_price(cp_flag,S,K,T,r,v,q=0.0):\n",
    "    d1 = (log(S/K)+(r+v*v/2.)*T)/(v*sqrt(T))\n",
    "    d2 = d1-v*sqrt(T)\n",
    "    if cp_flag == 'c':\n",
    "        price = S*exp(-q*T)*N(d1)-K*exp(-r*T)*N(d2)\n",
    "    else:\n",
    "        price = K*exp(-r*T)*N(-d2)-S*exp(-q*T)*N(-d1)\n",
    "    return price\n",
    "\n",
    "def bs_vega(cp_flag,S,K,T,r,v,q=0.0):\n",
    "    d1 = (log(S/K)+(r+v*v/2.)*T)/(v*sqrt(T))\n",
    "    return S * sqrt(T)*n(d1)\n"
   ]
  },
  {
   "cell_type": "code",
   "execution_count": 13,
   "metadata": {},
   "outputs": [
    {
     "name": "stdout",
     "output_type": "stream",
     "text": [
      "0 0.5 -4.18365046735\n",
      "1 0.24107663063 0.038591448153\n",
      "2 0.243426113489 1.87740121937e-06\n",
      "Implied vol: 24.34%\n",
      "Market price = 4.01\n",
      "Model price = 4.01\n"
     ]
    }
   ],
   "source": [
    "import datetime \n",
    "\n",
    "\n",
    "V_market = 4.0143\n",
    "K = 50\n",
    "T = 250/365.\n",
    "S = 50\n",
    "r = 0.00016\n",
    "cp = 'c' # call option\n",
    "\n",
    "implied_vol = find_vol(V_market, cp, S, K, T, r)\n",
    "\n",
    "print 'Implied vol: %.2f%%' % (implied_vol * 100)\n",
    "\n",
    "print 'Market price = %.2f' % V_market\n",
    "print 'Model price = %.2f' % bs_price(cp, S, K, T, r, implied_vol)"
   ]
  },
  {
   "cell_type": "code",
   "execution_count": null,
   "metadata": {},
   "outputs": [],
   "source": []
  }
 ],
 "metadata": {
  "kernelspec": {
   "display_name": "Python 2",
   "language": "python",
   "name": "python2"
  },
  "language_info": {
   "codemirror_mode": {
    "name": "ipython",
    "version": 2
   },
   "file_extension": ".py",
   "mimetype": "text/x-python",
   "name": "python",
   "nbconvert_exporter": "python",
   "pygments_lexer": "ipython2",
   "version": "2.7.14"
  }
 },
 "nbformat": 4,
 "nbformat_minor": 2
}
