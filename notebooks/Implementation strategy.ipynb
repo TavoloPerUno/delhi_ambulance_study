{
 "cells": [
  {
   "cell_type": "code",
   "execution_count": 23,
   "metadata": {},
   "outputs": [
    {
     "data": {
      "text/html": [
       "<script>\n",
       "code_show=true; \n",
       "function code_toggle() {\n",
       " if (code_show){\n",
       " $('div.input').hide();\n",
       " } else {\n",
       " $('div.input').show();\n",
       " }\n",
       " code_show = !code_show\n",
       "} \n",
       "$( document ).ready(code_toggle);\n",
       "</script>\n",
       "<p>The raw code for this IPython notebook is by default hidden for easier reading.\n",
       "To toggle on/off the raw code, click <a href=\"javascript:code_toggle()\">here</a>.</p>"
      ],
      "text/plain": [
       "<IPython.core.display.HTML object>"
      ]
     },
     "execution_count": 23,
     "metadata": {},
     "output_type": "execute_result"
    }
   ],
   "source": [
    "from IPython.display import HTML\n",
    "HTML('''<script>\n",
    "code_show=true; \n",
    "function code_toggle() {\n",
    " if (code_show){\n",
    " $('div.input').hide();\n",
    " } else {\n",
    " $('div.input').show();\n",
    " }\n",
    " code_show = !code_show\n",
    "} \n",
    "$( document ).ready(code_toggle);\n",
    "</script>\n",
    "<p>The raw code for this IPython notebook is by default hidden for easier reading.\n",
    "To toggle on/off the raw code, click <a href=\"javascript:code_toggle()\">here</a>.</p>''')"
   ]
  },
  {
   "cell_type": "code",
   "execution_count": 3,
   "metadata": {},
   "outputs": [],
   "source": [
    "import warnings\n",
    "\n",
    "warnings.filterwarnings('ignore')\n",
    "\n",
    "import os\n",
    "import pandas as pd\n",
    "import requests\n",
    "import time\n",
    "import sys\n",
    "import numpy as np\n",
    "import csv\n",
    "import datetime\n",
    "import osmnx as ox\n",
    "from shapely.geometry import Point\n",
    "from shapely.geometry.polygon import Polygon\n",
    "from descartes import PolygonPatch\n",
    "import networkx as nx\n",
    "import pandana as pdna\n",
    "import geopandas as gpd\n",
    "import ast\n",
    "import math\n",
    "import multiprocessing as mproc\n",
    "import copy"
   ]
  },
  {
   "cell_type": "code",
   "execution_count": 4,
   "metadata": {
    "collapsed": true
   },
   "outputs": [],
   "source": [
    "module_path = os.path.abspath(os.path.join('..'))\n",
    "if module_path not in sys.path:\n",
    "    sys.path.append(module_path)\n",
    "    \n",
    "from delhi_ambulance_study import gis_util, util"
   ]
  },
  {
   "cell_type": "code",
   "execution_count": 5,
   "metadata": {
    "collapsed": true
   },
   "outputs": [],
   "source": [
    "DATA_FOLDER = os.path.join('..', 'data')\n",
    "with open(os.path.join(DATA_FOLDER, 'keys.csv'), 'r') as f:\n",
    "    keys = csv.reader(f)\n",
    "    keys = list(keys)[0]\n",
    "    \n",
    "API_KEY = keys[0]\n",
    "%matplotlib inline"
   ]
  },
  {
   "cell_type": "markdown",
   "metadata": {},
   "source": [
    "# Hospital Locations"
   ]
  },
  {
   "cell_type": "markdown",
   "metadata": {},
   "source": [
    "Using RML, Indu Rao,Amarindu, AIIMS, Sushrut, Deen Dayal Upadhyaya, Safdarjung, Lal bahadur shastry, GTB as the list of hospitals in Delhi, **(There is no hospital by the name Amarindu)**"
   ]
  },
  {
   "cell_type": "code",
   "execution_count": 9,
   "metadata": {
    "collapsed": true
   },
   "outputs": [],
   "source": [
    "df_delhi_hospitals = pd.DataFrame({'name': ['Ram Manohar Lohia Hospital',\n",
    "                                            'North DMC Medical College & Hindu Rao Hospital',\n",
    "                                            'AIIMS',\n",
    "                                            'Sushrut Trauma Centre',\n",
    "                                            'Deen Dayal Upadhyay Hospital',\n",
    "                                            'Safdarjung Hospital',\n",
    "                                            'Lal Bahadur Shastri Hospital',\n",
    "                                            'GTB Hospital'\n",
    "                                           ],\n",
    "                                   'street': ['Baba Kharak Singh Marg',\n",
    "                                              'DR. J.S. Kkaranwal Memorial Road',\n",
    "                                              'Safdarjung Enclave, Aurobindo Marg, Ansari Nagar',\n",
    "                                              'Ring Road, Behind I.P. College, Near Civil Lines Metro Station, Metcalf Road',\n",
    "                                              'Clock Tower Chowk, Hari Enclave',\n",
    "                                              'Safdarjung Campus',\n",
    "                                              'Near Kalyanvas Colony, Mayur Vihar, Phase -II',\n",
    "                                              'GTB Enclave'\n",
    "                                              \n",
    "                                             ],\n",
    "                                   'neighbourhood': ['Connaught Place',\n",
    "                                                   'Malka Ganj',\n",
    "                                                   'Haus Khas',\n",
    "                                                   'Civil Lines',\n",
    "                                                   'Hari Nagar',\n",
    "                                                   'Ansari Nagar West',\n",
    "                                                   'Khichripur',\n",
    "                                                   'Shahdara'],\n",
    "                                   'city': ['New Delhi',\n",
    "                                            'New Delhi',\n",
    "                                            'New Delhi',\n",
    "                                            'New Delhi',\n",
    "                                            'New Delhi',\n",
    "                                            'New Delhi',\n",
    "                                            'New Delhi',\n",
    "                                            'New Delhi'\n",
    "                                           ],\n",
    "                                   'state': ['Delhi',\n",
    "                                             'Delhi',\n",
    "                                             'Delhi',\n",
    "                                             'Delhi',\n",
    "                                             'Delhi',\n",
    "                                             'Delhi',\n",
    "                                             'Delhi',\n",
    "                                             'Delhi'\n",
    "                                            ],\n",
    "                                   'pin': ['110001',\n",
    "                                           '110007',\n",
    "                                           '110029',\n",
    "                                           '110054',\n",
    "                                           '110064',\n",
    "                                           '110029',\n",
    "                                           '110091',\n",
    "                                           '110095'\n",
    "                                          ],\n",
    "                                   'country': ['India',\n",
    "                                               'India',\n",
    "                                               'India',\n",
    "                                               'India',\n",
    "                                               'India',\n",
    "                                               'India',\n",
    "                                               'India',\n",
    "                                               'India'\n",
    "                                             ]\n",
    "                                  })"
   ]
  },
  {
   "cell_type": "code",
   "execution_count": 10,
   "metadata": {
    "collapsed": true
   },
   "outputs": [],
   "source": [
    "addresses = list((df_delhi_hospitals['name'] + ',' + df_delhi_hospitals['street'] + ',' + df_delhi_hospitals['neighbourhood'] + ',' + df_delhi_hospitals['city'] + ',' + df_delhi_hospitals['state'] + ' ' + df_delhi_hospitals['pin'] + \",\" + df_delhi_hospitals['country']))"
   ]
  },
  {
   "cell_type": "markdown",
   "metadata": {},
   "source": [
    "Geocoding using Google geocoding API,"
   ]
  },
  {
   "cell_type": "code",
   "execution_count": 13,
   "metadata": {},
   "outputs": [
    {
     "name": "stdout",
     "output_type": "stream",
     "text": [
      "Geocoded: Ram Manohar Lohia Hospital,Baba Kharak Singh Marg,Connaught Place,New Delhi,Delhi 110001,India: OK\n",
      "Geocoded: North DMC Medical College & Hindu Rao Hospital,DR. J.S. Kkaranwal Memorial Road,Malka Ganj,New Delhi,Delhi 110007,India: OK\n",
      "Geocoded: AIIMS,Safdarjung Enclave, Aurobindo Marg, Ansari Nagar,Haus Khas,New Delhi,Delhi 110029,India: OK\n",
      "Geocoded: Sushrut Trauma Centre,Ring Road, Behind I.P. College, Near Civil Lines Metro Station, Metcalf Road,Civil Lines,New Delhi,Delhi 110054,India: OK\n",
      "Geocoded: Deen Dayal Upadhyay Hospital,Clock Tower Chowk, Hari Enclave,Hari Nagar,New Delhi,Delhi 110064,India: OK\n",
      "Geocoded: Safdarjung Hospital,Safdarjung Campus,Ansari Nagar West,New Delhi,Delhi 110029,India: OK\n",
      "Geocoded: Lal Bahadur Shastri Hospital,Near Kalyanvas Colony, Mayur Vihar, Phase -II,Khichripur,New Delhi,Delhi 110091,India: OK\n",
      "Geocoded: GTB Hospital,GTB Enclave,Shahdara,New Delhi,Delhi 110095,India: OK\n"
     ]
    }
   ],
   "source": [
    "results = gis_util.batch_geocode(addresses, DATA_FOLDER, 'delhi_hospitals_latlong.csv', API_KEY)"
   ]
  },
  {
   "cell_type": "code",
   "execution_count": 14,
   "metadata": {
    "collapsed": true
   },
   "outputs": [],
   "source": [
    "df_delhi_hospitals = df_delhi_hospitals.iloc[[results.index(entry) for entry in results if entry['status'] == 'OK']]"
   ]
  },
  {
   "cell_type": "code",
   "execution_count": 15,
   "metadata": {
    "collapsed": true
   },
   "outputs": [],
   "source": [
    "df_delhi_hospitals['lat'] = [entry['latitude'] for entry in results if entry['status'] == 'OK']\n",
    "df_delhi_hospitals['lng'] = [entry['longitude'] for entry in results if entry['status'] == 'OK']"
   ]
  },
  {
   "cell_type": "code",
   "execution_count": 26,
   "metadata": {
    "collapsed": true
   },
   "outputs": [],
   "source": [
    "df_delhi_hospitals['hosp_id'] = range(1, df_delhi_hospitals.shape[0] + 1)"
   ]
  },
  {
   "cell_type": "code",
   "execution_count": 27,
   "metadata": {
    "collapsed": true
   },
   "outputs": [],
   "source": [
    "df_delhi_hospitals.to_csv(os.path.join(DATA_FOLDER, 'delhi_hospitals_final_geocoded.csv'), index=False)"
   ]
  },
  {
   "cell_type": "code",
   "execution_count": 28,
   "metadata": {},
   "outputs": [
    {
     "data": {
      "text/html": [
       "<div>\n",
       "<style scoped>\n",
       "    .dataframe tbody tr th:only-of-type {\n",
       "        vertical-align: middle;\n",
       "    }\n",
       "\n",
       "    .dataframe tbody tr th {\n",
       "        vertical-align: top;\n",
       "    }\n",
       "\n",
       "    .dataframe thead th {\n",
       "        text-align: right;\n",
       "    }\n",
       "</style>\n",
       "<table border=\"1\" class=\"dataframe\">\n",
       "  <thead>\n",
       "    <tr style=\"text-align: right;\">\n",
       "      <th></th>\n",
       "      <th>city</th>\n",
       "      <th>country</th>\n",
       "      <th>name</th>\n",
       "      <th>neighbourhood</th>\n",
       "      <th>pin</th>\n",
       "      <th>state</th>\n",
       "      <th>street</th>\n",
       "      <th>lat</th>\n",
       "      <th>lng</th>\n",
       "      <th>hosp_id</th>\n",
       "    </tr>\n",
       "  </thead>\n",
       "  <tbody>\n",
       "    <tr>\n",
       "      <th>0</th>\n",
       "      <td>New Delhi</td>\n",
       "      <td>India</td>\n",
       "      <td>Ram Manohar Lohia Hospital</td>\n",
       "      <td>Connaught Place</td>\n",
       "      <td>110001</td>\n",
       "      <td>Delhi</td>\n",
       "      <td>Baba Kharak Singh Marg</td>\n",
       "      <td>28.627123</td>\n",
       "      <td>77.207337</td>\n",
       "      <td>1</td>\n",
       "    </tr>\n",
       "    <tr>\n",
       "      <th>1</th>\n",
       "      <td>New Delhi</td>\n",
       "      <td>India</td>\n",
       "      <td>North DMC Medical College &amp; Hindu Rao Hospital</td>\n",
       "      <td>Malka Ganj</td>\n",
       "      <td>110007</td>\n",
       "      <td>Delhi</td>\n",
       "      <td>DR. J.S. Kkaranwal Memorial Road</td>\n",
       "      <td>28.650374</td>\n",
       "      <td>77.182668</td>\n",
       "      <td>2</td>\n",
       "    </tr>\n",
       "    <tr>\n",
       "      <th>2</th>\n",
       "      <td>New Delhi</td>\n",
       "      <td>India</td>\n",
       "      <td>AIIMS</td>\n",
       "      <td>Haus Khas</td>\n",
       "      <td>110029</td>\n",
       "      <td>Delhi</td>\n",
       "      <td>Safdarjung Enclave, Aurobindo Marg, Ansari Nagar</td>\n",
       "      <td>28.566827</td>\n",
       "      <td>77.208120</td>\n",
       "      <td>3</td>\n",
       "    </tr>\n",
       "    <tr>\n",
       "      <th>3</th>\n",
       "      <td>New Delhi</td>\n",
       "      <td>India</td>\n",
       "      <td>Sushrut Trauma Centre</td>\n",
       "      <td>Civil Lines</td>\n",
       "      <td>110054</td>\n",
       "      <td>Delhi</td>\n",
       "      <td>Ring Road, Behind I.P. College, Near Civil Lin...</td>\n",
       "      <td>28.679779</td>\n",
       "      <td>77.228379</td>\n",
       "      <td>4</td>\n",
       "    </tr>\n",
       "    <tr>\n",
       "      <th>4</th>\n",
       "      <td>New Delhi</td>\n",
       "      <td>India</td>\n",
       "      <td>Deen Dayal Upadhyay Hospital</td>\n",
       "      <td>Hari Nagar</td>\n",
       "      <td>110064</td>\n",
       "      <td>Delhi</td>\n",
       "      <td>Clock Tower Chowk, Hari Enclave</td>\n",
       "      <td>28.628012</td>\n",
       "      <td>77.112397</td>\n",
       "      <td>5</td>\n",
       "    </tr>\n",
       "    <tr>\n",
       "      <th>5</th>\n",
       "      <td>New Delhi</td>\n",
       "      <td>India</td>\n",
       "      <td>Safdarjung Hospital</td>\n",
       "      <td>Ansari Nagar West</td>\n",
       "      <td>110029</td>\n",
       "      <td>Delhi</td>\n",
       "      <td>Safdarjung Campus</td>\n",
       "      <td>28.567839</td>\n",
       "      <td>77.205795</td>\n",
       "      <td>6</td>\n",
       "    </tr>\n",
       "    <tr>\n",
       "      <th>6</th>\n",
       "      <td>New Delhi</td>\n",
       "      <td>India</td>\n",
       "      <td>Lal Bahadur Shastri Hospital</td>\n",
       "      <td>Khichripur</td>\n",
       "      <td>110091</td>\n",
       "      <td>Delhi</td>\n",
       "      <td>Near Kalyanvas Colony, Mayur Vihar, Phase -II</td>\n",
       "      <td>28.617721</td>\n",
       "      <td>77.311242</td>\n",
       "      <td>7</td>\n",
       "    </tr>\n",
       "    <tr>\n",
       "      <th>7</th>\n",
       "      <td>New Delhi</td>\n",
       "      <td>India</td>\n",
       "      <td>GTB Hospital</td>\n",
       "      <td>Shahdara</td>\n",
       "      <td>110095</td>\n",
       "      <td>Delhi</td>\n",
       "      <td>GTB Enclave</td>\n",
       "      <td>28.683812</td>\n",
       "      <td>77.311004</td>\n",
       "      <td>8</td>\n",
       "    </tr>\n",
       "  </tbody>\n",
       "</table>\n",
       "</div>"
      ],
      "text/plain": [
       "        city country                                            name  \\\n",
       "0  New Delhi   India                      Ram Manohar Lohia Hospital   \n",
       "1  New Delhi   India  North DMC Medical College & Hindu Rao Hospital   \n",
       "2  New Delhi   India                                           AIIMS   \n",
       "3  New Delhi   India                           Sushrut Trauma Centre   \n",
       "4  New Delhi   India                    Deen Dayal Upadhyay Hospital   \n",
       "5  New Delhi   India                             Safdarjung Hospital   \n",
       "6  New Delhi   India                    Lal Bahadur Shastri Hospital   \n",
       "7  New Delhi   India                                    GTB Hospital   \n",
       "\n",
       "       neighbourhood     pin  state  \\\n",
       "0    Connaught Place  110001  Delhi   \n",
       "1         Malka Ganj  110007  Delhi   \n",
       "2          Haus Khas  110029  Delhi   \n",
       "3        Civil Lines  110054  Delhi   \n",
       "4         Hari Nagar  110064  Delhi   \n",
       "5  Ansari Nagar West  110029  Delhi   \n",
       "6         Khichripur  110091  Delhi   \n",
       "7           Shahdara  110095  Delhi   \n",
       "\n",
       "                                              street        lat        lng  \\\n",
       "0                             Baba Kharak Singh Marg  28.627123  77.207337   \n",
       "1                   DR. J.S. Kkaranwal Memorial Road  28.650374  77.182668   \n",
       "2   Safdarjung Enclave, Aurobindo Marg, Ansari Nagar  28.566827  77.208120   \n",
       "3  Ring Road, Behind I.P. College, Near Civil Lin...  28.679779  77.228379   \n",
       "4                    Clock Tower Chowk, Hari Enclave  28.628012  77.112397   \n",
       "5                                  Safdarjung Campus  28.567839  77.205795   \n",
       "6      Near Kalyanvas Colony, Mayur Vihar, Phase -II  28.617721  77.311242   \n",
       "7                                        GTB Enclave  28.683812  77.311004   \n",
       "\n",
       "   hosp_id  \n",
       "0        1  \n",
       "1        2  \n",
       "2        3  \n",
       "3        4  \n",
       "4        5  \n",
       "5        6  \n",
       "6        7  \n",
       "7        8  "
      ]
     },
     "execution_count": 28,
     "metadata": {},
     "output_type": "execute_result"
    }
   ],
   "source": [
    "df_delhi_hospitals"
   ]
  },
  {
   "cell_type": "markdown",
   "metadata": {},
   "source": [
    "# Crash & taxi Locations"
   ]
  },
  {
   "cell_type": "markdown",
   "metadata": {},
   "source": [
    "## Real data availability assumptions"
   ]
  },
  {
   "cell_type": "markdown",
   "metadata": {},
   "source": [
    "* This study's geographical area of interest spans the entire National Capital Region, which is comprised of a number of districts in Haryana, Rajasthan and Uttar Pradesh along with the National Capital Territory of Delhi. \n",
    "* Taxi location data is supposed to include log information of Delhi taxis reported at a frequency of 1 minute, spanning the entire duration of the study, which is [(12 am, 1st January 2016), (12 am, 1st January 2017))\n",
    "* Crash information is sourced from fatal road accidents data in NCR for the year 2017. This dataset is supposed to have about 2000 records. "
   ]
  },
  {
   "cell_type": "markdown",
   "metadata": {},
   "source": [
    "## Simulated Data\n",
    "\n",
    "* To avoid prohibitively long computation times, the simulated crash dataset will have only 100 records, with timepoints anywhere in [(12 am, 1st January 2016), (12 am, 1st January 2017))\n",
    "* Simulated data for taxi locations will have 1 log for 10000 taxis for [(12 am, 30th December 2015), (12 am, 1st January 2016)).\n",
    "* All events in this dataset will be from within the National Capital Territory of Delhi and not the whole NCR."
   ]
  },
  {
   "cell_type": "markdown",
   "metadata": {},
   "source": [
    "Using 'as the crow flies' distance to get the closest taxes from crash location will result in data that is not representative of actual travel distances. We need information on the road network. This study uses Open Street Map (OSM)'s road network information. This is accomplished with [osmnx](https://github.com/gboeing/osmnx), a Python package that does API calls to OSM API. We do not directly use Google Directions API, which has the capability to give estimated travel times based on time of the day, as other factors such as API call latency for each query and daily quota mean that we must restrict the number of these queries to as small as possible. An advantage of osmnx is that there will be only one OSM API call, when the entire road network dataset will be downloaded, and all shortest distance computations will be local."
   ]
  },
  {
   "cell_type": "code",
   "execution_count": null,
   "metadata": {
    "collapsed": true
   },
   "outputs": [],
   "source": [
    "# dctlst_places = [ {'state':'National Capital Territory', 'country':'India'},\n",
    "#                 {'district': 'Meerut', 'state':'Uttar Pradesh', 'country':'India'},\n",
    "#                 {'district': 'Muzzafarnagar', 'state':'Uttar Pradesh', 'country':'India'},\n",
    "#                 {'district': 'Ghaziabad', 'state':'Uttar Pradesh', 'country':'India'},\n",
    "#                 {'district': 'Gautam Budh Nagar', 'state':'Uttar Pradesh', 'country':'India'},\n",
    "#                 {'district': 'Bulandshahr', 'state':'Uttar Pradesh', 'country':'India'},\n",
    "#                 {'district': 'Baghpat', 'state':'Uttar Pradesh', 'country':'India'},\n",
    "#                 {'district': 'Hapur', 'state':'Uttar Pradesh', 'country':'India'},\n",
    "#                 {'district': 'Shamli', 'state':'Uttar Pradesh', 'country':'India'},\n",
    "#                 {'district': 'Faridabad', 'state': 'Haryana', 'country': 'India'},\n",
    "#                 {'district': 'Gurugram', 'state': 'Haryana', 'country': 'India'},\n",
    "#                 {'district': 'Mahendragarh', 'state': 'Haryana', 'country': 'India'},\n",
    "#                 {'district': 'Bhiwani', 'state': 'Haryana', 'country': 'India'},\n",
    "#                 {'district': 'Charkhi Dhadri', 'state': 'Haryana', 'country': 'India'},\n",
    "#                 {'district': 'Nuh', 'state': 'Haryana', 'country': 'India'},\n",
    "#                 {'district': 'Rohtak', 'state': 'Haryana', 'country': 'India'},\n",
    "#                 {'district': 'Sonipat', 'state': 'Haryana', 'country': 'India'},\n",
    "#                 {'district': 'Rewari', 'state': 'Haryana', 'country': 'India'},\n",
    "#                 {'district': 'Jhajjar', 'state': 'Haryana', 'country': 'India'},\n",
    "#                 {'district': 'Panipat', 'state': 'Haryana', 'country': 'India'},\n",
    "#                 {'district': 'Palwal', 'state': 'Haryana', 'country': 'India'},\n",
    "#                 {'district': 'Jind', 'state': 'Haryana', 'country': 'India'},\n",
    "#                 {'district': 'Karnal', 'state': 'Haryana', 'country': 'India'},\n",
    "#                 {'district': 'Alwar', 'state': 'Rajasthan', 'country': 'India'},\n",
    "#                 {'district': 'Bharatpur', 'state': 'Rajasthan', 'country': 'India'}\n",
    "#                 ]\n",
    "\n",
    "dctlst_places = [ {'state':'National Capital Territory', 'country':'India'}]\n",
    "\n",
    "ncr_roads = ox.graph_from_place(place_names, network_type='drive_service')"
   ]
  },
  {
   "cell_type": "markdown",
   "metadata": {},
   "source": [
    "We then proceed with the download of NCR road network using osmnx. The downloaded data can be saved locally as shape files to avoid lengthy download times in subsequent analyses. The saved files will be placed into two folders, Nodes and Edges. Edges have information on road segments and Nodes can be thought of as (lat, long) points that mark curves, intersections, etc., that is essential to reconstruct the roads. "
   ]
  },
  {
   "cell_type": "code",
   "execution_count": null,
   "metadata": {
    "collapsed": true
   },
   "outputs": [],
   "source": [
    "ncr_network = gis_util.get_street_network(dctlst_places, DATA_FOLDER, 'ncr')\n",
    "ncr_network = ox.load_graphml(filename='ncr.graphml', folder=os.path.join(DATA_FOLDER, 'ncr'))\n",
    "\n",
    "gdf_ncr = gpd.read_file(os.path.join(DATA_FOLDER, 'ncr', 'nodes', 'nodes.shp'))"
   ]
  },
  {
   "cell_type": "code",
   "execution_count": null,
   "metadata": {
    "collapsed": true
   },
   "outputs": [],
   "source": [
    "To simulate crashes till we have access to the actual crash data, this study makes uses of these node points. So the nodes datapoints are also saved as a csv file. We sample 2000 random points (with replacement) from this nodes csv and 2000 time points in 2016 to simulate crashes."
   ]
  },
  {
   "cell_type": "code",
   "execution_count": 4,
   "metadata": {
    "collapsed": true
   },
   "outputs": [],
   "source": [
    "gdf_ncr.to_csv(os.path.join(DATA_FOLDER, 'ncr', 'ncr.csv'))\n",
    "df_delhi_points = pd.read_csv(os.path.join(DATA_FOLDER, 'ncr', 'ncr.csv'), index_col=0)"
   ]
  },
  {
   "cell_type": "code",
   "execution_count": 6,
   "metadata": {
    "collapsed": true
   },
   "outputs": [],
   "source": [
    "crash_loc_indices = np.random.choice(df_delhi_points.index, size=2000, replace=True)"
   ]
  },
  {
   "cell_type": "code",
   "execution_count": 7,
   "metadata": {
    "collapsed": true
   },
   "outputs": [],
   "source": [
    "time_points = pd.date_range(start='2016-01-01 00:00:00', end='2017-01-01 00:00:00', freq='15min', tz='Asia/Kolkata')"
   ]
  },
  {
   "cell_type": "code",
   "execution_count": 8,
   "metadata": {
    "collapsed": true
   },
   "outputs": [],
   "source": [
    "df_crash_events = pd.DataFrame({'event_id': range(1, 2001),\n",
    "                                'event_time': np.random.choice(time_points, size=2000, replace=True), \n",
    "                                'event_lat': df_delhi_points.iloc[crash_loc_indices]['lat'],\n",
    "                                'event_lng': df_delhi_points.iloc[crash_loc_indices]['lon']\n",
    "                              })"
   ]
  },
  {
   "cell_type": "markdown",
   "metadata": {},
   "source": [
    "The simulated crash points' time information should be in IST."
   ]
  },
  {
   "cell_type": "code",
   "execution_count": 9,
   "metadata": {
    "collapsed": true
   },
   "outputs": [],
   "source": [
    "df_crash_events['event_time'] = pd.to_datetime(df_crash_events['event_time']).dt.tz_localize('Asia/Kolkata')"
   ]
  },
  {
   "cell_type": "code",
   "execution_count": 10,
   "metadata": {
    "collapsed": true
   },
   "outputs": [],
   "source": [
    "df_crash_events.to_csv(os.path.join(DATA_FOLDER, 'crashes.csv'), index=False)"
   ]
  },
  {
   "cell_type": "markdown",
   "metadata": {},
   "source": [
    "We create 10000 taxis and add one log entry for each them at a random time point (with replacement) in [(12 am, 30th December 2015), (12 am, 1st January 2016)), with 10000 random locations chosen from nodes csv file with replacement."
   ]
  },
  {
   "cell_type": "code",
   "execution_count": 36,
   "metadata": {
    "collapsed": true
   },
   "outputs": [],
   "source": [
    "taxi_loc_indices = np.random.choice(df_delhi_points.index, size=10000, replace=True)\n",
    "time_points = pd.date_range(start='2015-12-29 00:00:00', end='2015-12-31 23:59:00', freq='0.5min', tz='Asia/Kolkata')\n",
    "df_taxi_log = pd.DataFrame({'log_id': range(1, 10001),\n",
    "                            'taxi_id': range(1, 10001),\n",
    "                            'log_time': np.random.choice(time_points, size=10000, replace=True), \n",
    "                            'log_lat': df_delhi_points.iloc[taxi_loc_indices]['lat'],\n",
    "                            'log_lng': df_delhi_points.iloc[taxi_loc_indices]['lon']\n",
    "                            })\n",
    "df_taxi_log['log_time'] = pd.to_datetime(df_taxi_log['log_time']).dt.tz_localize('Asia/Kolkata')\n",
    "df_taxi_log['log_on_call'] = True"
   ]
  },
  {
   "cell_type": "markdown",
   "metadata": {},
   "source": [
    "Since each taxi is assumed to have numerous logs, and it makes sense to restrict it to taxis which are available for hire, we introduce the following fields:\n",
    "\n",
    "* log_id - Uniquely identify each log. Helps keep track of multiple spatiotemporal logs for each taxi.\n",
    "* log_on_call - To denote the taxi's availability"
   ]
  },
  {
   "cell_type": "code",
   "execution_count": 37,
   "metadata": {
    "collapsed": true
   },
   "outputs": [],
   "source": [
    "df_taxi_log.to_csv(os.path.join(DATA_FOLDER, 'taxi_log.csv'), index=False)"
   ]
  },
  {
   "cell_type": "markdown",
   "metadata": {},
   "source": [
    "# Getting closest hospital & taxi information"
   ]
  },
  {
   "cell_type": "code",
   "execution_count": 6,
   "metadata": {},
   "outputs": [],
   "source": [
    "df_delhi_hospitals = pd.read_csv(os.path.join(DATA_FOLDER, 'delhi_hospitals_final_geocoded.csv'))\n",
    "df_crash_events = pd.read_csv(os.path.join(DATA_FOLDER, 'crashes.csv'))\n",
    "df_taxi_log = pd.read_csv(os.path.join(DATA_FOLDER, 'taxi_log.csv'))\n",
    "\n",
    "\n",
    "df_taxi_log['log_time'] = pd.to_datetime(df_taxi_log['log_time']).dt.tz_localize('UTC').dt.tz_convert(\n",
    "    'Asia/Kolkata')\n",
    "df_crash_events['event_time'] = pd.to_datetime(df_crash_events['event_time']).dt.tz_localize(\n",
    "    'UTC').dt.tz_convert('Asia/Kolkata')\n",
    "\n",
    "ncr_network = ox.load_graphml(filename='ncr.graphml', folder=os.path.join(DATA_FOLDER, 'ncr'))\n",
    "\n",
    "gdf_ncr = gpd.read_file(os.path.join(DATA_FOLDER, 'ncr', 'nodes', 'nodes.shp'))"
   ]
  },
  {
   "cell_type": "markdown",
   "metadata": {},
   "source": [
    "Our problem, finding closest taxis and hospitals to crash locations, is similar to the modified closest pair of points. We have two sets (Crashes, Hospitals) or (Crashes, Taxis), and our prerogative is to match each point in set A (Crashes) with the closest point in set B (Hospitals or Taxis). Naive approaches will mean there will be (nCrash X nHospital + nCrash X nTaxi) computations. \n",
    "\n",
    "[Pandana](https://github.com/UDST/pandana) is an open source package that has inbuilt features to perform network level aggregations, i.e. buffer queries, which can then be used to reduce the subset to query from to obtain closest n points of interest from each node in a graph. Pandana performs hundreds of thousands of network queries in under a second (for walking-scale distances) using a Pandas-like API. The computations are parallelized for use on multi-core computers using an underlying C library. The impication is that there will only be a single query (1 each for taxi and hospital) for each crash, on the aggregated list of closest points of interest to each node. This aggregated list can be thought of a list of all nodes in the network, along with information on k closest points of interest to each of them. These points of interest can be hospitals or taxi locations."
   ]
  },
  {
   "cell_type": "markdown",
   "metadata": {},
   "source": [
    "Let us visualise information on roads provided by OSM."
   ]
  },
  {
   "cell_type": "code",
   "execution_count": 7,
   "metadata": {
    "collapsed": true
   },
   "outputs": [],
   "source": [
    "gdf_nodes = ox.graph_to_gdfs(ncr_network, edges=False)\n",
    "gdf_edges = ox.graph_to_gdfs(ncr_network, nodes=False)"
   ]
  },
  {
   "cell_type": "code",
   "execution_count": 8,
   "metadata": {},
   "outputs": [
    {
     "data": {
      "text/html": [
       "<div>\n",
       "<style scoped>\n",
       "    .dataframe tbody tr th:only-of-type {\n",
       "        vertical-align: middle;\n",
       "    }\n",
       "\n",
       "    .dataframe tbody tr th {\n",
       "        vertical-align: top;\n",
       "    }\n",
       "\n",
       "    .dataframe thead th {\n",
       "        text-align: right;\n",
       "    }\n",
       "</style>\n",
       "<table border=\"1\" class=\"dataframe\">\n",
       "  <thead>\n",
       "    <tr style=\"text-align: right;\">\n",
       "      <th></th>\n",
       "      <th>access</th>\n",
       "      <th>area</th>\n",
       "      <th>bridge</th>\n",
       "      <th>geometry</th>\n",
       "      <th>highway</th>\n",
       "      <th>key</th>\n",
       "      <th>landuse</th>\n",
       "      <th>lanes</th>\n",
       "      <th>length</th>\n",
       "      <th>maxspeed</th>\n",
       "      <th>name</th>\n",
       "      <th>oneway</th>\n",
       "      <th>osmid</th>\n",
       "      <th>ref</th>\n",
       "      <th>service</th>\n",
       "      <th>tunnel</th>\n",
       "      <th>u</th>\n",
       "      <th>v</th>\n",
       "      <th>width</th>\n",
       "    </tr>\n",
       "  </thead>\n",
       "  <tbody>\n",
       "    <tr>\n",
       "      <th>0</th>\n",
       "      <td>NaN</td>\n",
       "      <td>NaN</td>\n",
       "      <td>NaN</td>\n",
       "      <td>LINESTRING (77.1680173 28.5426036, 77.16793149...</td>\n",
       "      <td>residential</td>\n",
       "      <td>0</td>\n",
       "      <td>NaN</td>\n",
       "      <td>NaN</td>\n",
       "      <td>62.355284</td>\n",
       "      <td>NaN</td>\n",
       "      <td>NaN</td>\n",
       "      <td>False</td>\n",
       "      <td>7892104</td>\n",
       "      <td>NaN</td>\n",
       "      <td>NaN</td>\n",
       "      <td>NaN</td>\n",
       "      <td>58047704</td>\n",
       "      <td>58047707</td>\n",
       "      <td>NaN</td>\n",
       "    </tr>\n",
       "    <tr>\n",
       "      <th>1</th>\n",
       "      <td>NaN</td>\n",
       "      <td>NaN</td>\n",
       "      <td>NaN</td>\n",
       "      <td>LINESTRING (77.16769119999999 28.5430787, 77.1...</td>\n",
       "      <td>residential</td>\n",
       "      <td>0</td>\n",
       "      <td>NaN</td>\n",
       "      <td>NaN</td>\n",
       "      <td>64.212083</td>\n",
       "      <td>NaN</td>\n",
       "      <td>NaN</td>\n",
       "      <td>False</td>\n",
       "      <td>7892369</td>\n",
       "      <td>NaN</td>\n",
       "      <td>NaN</td>\n",
       "      <td>NaN</td>\n",
       "      <td>58047707</td>\n",
       "      <td>58051020</td>\n",
       "      <td>NaN</td>\n",
       "    </tr>\n",
       "    <tr>\n",
       "      <th>2</th>\n",
       "      <td>NaN</td>\n",
       "      <td>NaN</td>\n",
       "      <td>NaN</td>\n",
       "      <td>LINESTRING (77.16769119999999 28.5430787, 77.1...</td>\n",
       "      <td>residential</td>\n",
       "      <td>0</td>\n",
       "      <td>NaN</td>\n",
       "      <td>NaN</td>\n",
       "      <td>62.355284</td>\n",
       "      <td>NaN</td>\n",
       "      <td>NaN</td>\n",
       "      <td>False</td>\n",
       "      <td>7892104</td>\n",
       "      <td>NaN</td>\n",
       "      <td>NaN</td>\n",
       "      <td>NaN</td>\n",
       "      <td>58047707</td>\n",
       "      <td>58047704</td>\n",
       "      <td>NaN</td>\n",
       "    </tr>\n",
       "    <tr>\n",
       "      <th>3</th>\n",
       "      <td>NaN</td>\n",
       "      <td>NaN</td>\n",
       "      <td>NaN</td>\n",
       "      <td>LINESTRING (77.16769119999999 28.5430787, 77.1...</td>\n",
       "      <td>residential</td>\n",
       "      <td>0</td>\n",
       "      <td>NaN</td>\n",
       "      <td>NaN</td>\n",
       "      <td>23.925042</td>\n",
       "      <td>NaN</td>\n",
       "      <td>NaN</td>\n",
       "      <td>False</td>\n",
       "      <td>7892369</td>\n",
       "      <td>NaN</td>\n",
       "      <td>NaN</td>\n",
       "      <td>NaN</td>\n",
       "      <td>58047707</td>\n",
       "      <td>2265700198</td>\n",
       "      <td>NaN</td>\n",
       "    </tr>\n",
       "    <tr>\n",
       "      <th>4</th>\n",
       "      <td>NaN</td>\n",
       "      <td>NaN</td>\n",
       "      <td>NaN</td>\n",
       "      <td>LINESTRING (77.16437809999999 28.5383963, 77.1...</td>\n",
       "      <td>residential</td>\n",
       "      <td>0</td>\n",
       "      <td>NaN</td>\n",
       "      <td>NaN</td>\n",
       "      <td>48.454379</td>\n",
       "      <td>NaN</td>\n",
       "      <td>JNU Ring Road</td>\n",
       "      <td>False</td>\n",
       "      <td>7892285</td>\n",
       "      <td>NaN</td>\n",
       "      <td>NaN</td>\n",
       "      <td>NaN</td>\n",
       "      <td>58049717</td>\n",
       "      <td>4231408578</td>\n",
       "      <td>NaN</td>\n",
       "    </tr>\n",
       "  </tbody>\n",
       "</table>\n",
       "</div>"
      ],
      "text/plain": [
       "  access area bridge                                           geometry  \\\n",
       "0    NaN  NaN    NaN  LINESTRING (77.1680173 28.5426036, 77.16793149...   \n",
       "1    NaN  NaN    NaN  LINESTRING (77.16769119999999 28.5430787, 77.1...   \n",
       "2    NaN  NaN    NaN  LINESTRING (77.16769119999999 28.5430787, 77.1...   \n",
       "3    NaN  NaN    NaN  LINESTRING (77.16769119999999 28.5430787, 77.1...   \n",
       "4    NaN  NaN    NaN  LINESTRING (77.16437809999999 28.5383963, 77.1...   \n",
       "\n",
       "       highway  key landuse lanes     length maxspeed           name  oneway  \\\n",
       "0  residential    0     NaN   NaN  62.355284      NaN            NaN   False   \n",
       "1  residential    0     NaN   NaN  64.212083      NaN            NaN   False   \n",
       "2  residential    0     NaN   NaN  62.355284      NaN            NaN   False   \n",
       "3  residential    0     NaN   NaN  23.925042      NaN            NaN   False   \n",
       "4  residential    0     NaN   NaN  48.454379      NaN  JNU Ring Road   False   \n",
       "\n",
       "     osmid  ref service tunnel         u           v width  \n",
       "0  7892104  NaN     NaN    NaN  58047704    58047707   NaN  \n",
       "1  7892369  NaN     NaN    NaN  58047707    58051020   NaN  \n",
       "2  7892104  NaN     NaN    NaN  58047707    58047704   NaN  \n",
       "3  7892369  NaN     NaN    NaN  58047707  2265700198   NaN  \n",
       "4  7892285  NaN     NaN    NaN  58049717  4231408578   NaN  "
      ]
     },
     "execution_count": 8,
     "metadata": {},
     "output_type": "execute_result"
    }
   ],
   "source": [
    "gdf_edges.head(n=5)"
   ]
  },
  {
   "cell_type": "markdown",
   "metadata": {},
   "source": [
    "Closest pair of points in graphs (network) use weights (impedences) on nodes as the flavour in which they are close; the flavour in our case is distance or time taken to travel. Distance alone cannot give a true estimate of required time, since a trip that makes use of too many short side lanes can be slower than a longer path on an expressway. Speed limit thus is valuable information. This however is not available for this road network. We still can mimic this by assigning limits based on the type of the segments. This can then be used to weight the edges. Checking the types of road segments present,"
   ]
  },
  {
   "cell_type": "code",
   "execution_count": 9,
   "metadata": {
    "collapsed": true
   },
   "outputs": [],
   "source": [
    "gdf_edges['highway'] = list(map(str, gdf_edges['highway']))"
   ]
  },
  {
   "cell_type": "code",
   "execution_count": 10,
   "metadata": {},
   "outputs": [],
   "source": [
    "#gdf_edges['highway'].unique()"
   ]
  },
  {
   "cell_type": "code",
   "execution_count": 11,
   "metadata": {
    "collapsed": true
   },
   "outputs": [],
   "source": [
    "gdf_edges['maxspeed'] = list(map(util.tidy_maxspeed_tuple_to_int, gdf_edges['maxspeed']))"
   ]
  },
  {
   "cell_type": "markdown",
   "metadata": {},
   "source": [
    "Some road segments do have max speed information."
   ]
  },
  {
   "cell_type": "code",
   "execution_count": 12,
   "metadata": {},
   "outputs": [
    {
     "data": {
      "text/html": [
       "<div>\n",
       "<style scoped>\n",
       "    .dataframe tbody tr th:only-of-type {\n",
       "        vertical-align: middle;\n",
       "    }\n",
       "\n",
       "    .dataframe tbody tr th {\n",
       "        vertical-align: top;\n",
       "    }\n",
       "\n",
       "    .dataframe thead th {\n",
       "        text-align: right;\n",
       "    }\n",
       "</style>\n",
       "<table border=\"1\" class=\"dataframe\">\n",
       "  <thead>\n",
       "    <tr style=\"text-align: right;\">\n",
       "      <th></th>\n",
       "      <th>access</th>\n",
       "      <th>area</th>\n",
       "      <th>bridge</th>\n",
       "      <th>geometry</th>\n",
       "      <th>highway</th>\n",
       "      <th>key</th>\n",
       "      <th>landuse</th>\n",
       "      <th>lanes</th>\n",
       "      <th>length</th>\n",
       "      <th>maxspeed</th>\n",
       "      <th>name</th>\n",
       "      <th>oneway</th>\n",
       "      <th>osmid</th>\n",
       "      <th>ref</th>\n",
       "      <th>service</th>\n",
       "      <th>tunnel</th>\n",
       "      <th>u</th>\n",
       "      <th>v</th>\n",
       "      <th>width</th>\n",
       "    </tr>\n",
       "  </thead>\n",
       "  <tbody>\n",
       "    <tr>\n",
       "      <th>241</th>\n",
       "      <td>NaN</td>\n",
       "      <td>NaN</td>\n",
       "      <td>NaN</td>\n",
       "      <td>LINESTRING (77.2388844 28.5780587, 77.2388935 ...</td>\n",
       "      <td>residential</td>\n",
       "      <td>0</td>\n",
       "      <td>NaN</td>\n",
       "      <td>NaN</td>\n",
       "      <td>302.863721</td>\n",
       "      <td>20.0</td>\n",
       "      <td>Prachin Shiv Mandir Road</td>\n",
       "      <td>False</td>\n",
       "      <td>38116089</td>\n",
       "      <td>NaN</td>\n",
       "      <td>NaN</td>\n",
       "      <td>NaN</td>\n",
       "      <td>250100205</td>\n",
       "      <td>250100312</td>\n",
       "      <td>NaN</td>\n",
       "    </tr>\n",
       "    <tr>\n",
       "      <th>266</th>\n",
       "      <td>NaN</td>\n",
       "      <td>NaN</td>\n",
       "      <td>NaN</td>\n",
       "      <td>LINESTRING (77.24312279999999 28.57865, 77.241...</td>\n",
       "      <td>residential</td>\n",
       "      <td>0</td>\n",
       "      <td>NaN</td>\n",
       "      <td>NaN</td>\n",
       "      <td>168.725184</td>\n",
       "      <td>20.0</td>\n",
       "      <td>Prachin Shiv Mandir Road</td>\n",
       "      <td>False</td>\n",
       "      <td>38116089</td>\n",
       "      <td>NaN</td>\n",
       "      <td>NaN</td>\n",
       "      <td>NaN</td>\n",
       "      <td>250100307</td>\n",
       "      <td>250100312</td>\n",
       "      <td>NaN</td>\n",
       "    </tr>\n",
       "    <tr>\n",
       "      <th>268</th>\n",
       "      <td>NaN</td>\n",
       "      <td>NaN</td>\n",
       "      <td>NaN</td>\n",
       "      <td>LINESTRING (77.24312279999999 28.57865, 77.245...</td>\n",
       "      <td>residential</td>\n",
       "      <td>0</td>\n",
       "      <td>NaN</td>\n",
       "      <td>NaN</td>\n",
       "      <td>682.872896</td>\n",
       "      <td>20.0</td>\n",
       "      <td>Prachin Shiv Mandir Road</td>\n",
       "      <td>False</td>\n",
       "      <td>38116089</td>\n",
       "      <td>NaN</td>\n",
       "      <td>NaN</td>\n",
       "      <td>NaN</td>\n",
       "      <td>250100307</td>\n",
       "      <td>448444374</td>\n",
       "      <td>NaN</td>\n",
       "    </tr>\n",
       "    <tr>\n",
       "      <th>270</th>\n",
       "      <td>NaN</td>\n",
       "      <td>NaN</td>\n",
       "      <td>NaN</td>\n",
       "      <td>LINESTRING (77.2413954 28.5786133, 77.24312279...</td>\n",
       "      <td>residential</td>\n",
       "      <td>0</td>\n",
       "      <td>NaN</td>\n",
       "      <td>NaN</td>\n",
       "      <td>168.725184</td>\n",
       "      <td>20.0</td>\n",
       "      <td>Prachin Shiv Mandir Road</td>\n",
       "      <td>False</td>\n",
       "      <td>38116089</td>\n",
       "      <td>NaN</td>\n",
       "      <td>NaN</td>\n",
       "      <td>NaN</td>\n",
       "      <td>250100312</td>\n",
       "      <td>250100307</td>\n",
       "      <td>NaN</td>\n",
       "    </tr>\n",
       "    <tr>\n",
       "      <th>272</th>\n",
       "      <td>NaN</td>\n",
       "      <td>NaN</td>\n",
       "      <td>NaN</td>\n",
       "      <td>LINESTRING (77.2413954 28.5786133, 77.2413382 ...</td>\n",
       "      <td>residential</td>\n",
       "      <td>0</td>\n",
       "      <td>NaN</td>\n",
       "      <td>NaN</td>\n",
       "      <td>302.863721</td>\n",
       "      <td>20.0</td>\n",
       "      <td>Prachin Shiv Mandir Road</td>\n",
       "      <td>False</td>\n",
       "      <td>38116089</td>\n",
       "      <td>NaN</td>\n",
       "      <td>NaN</td>\n",
       "      <td>NaN</td>\n",
       "      <td>250100312</td>\n",
       "      <td>250100205</td>\n",
       "      <td>NaN</td>\n",
       "    </tr>\n",
       "  </tbody>\n",
       "</table>\n",
       "</div>"
      ],
      "text/plain": [
       "    access area bridge                                           geometry  \\\n",
       "241    NaN  NaN    NaN  LINESTRING (77.2388844 28.5780587, 77.2388935 ...   \n",
       "266    NaN  NaN    NaN  LINESTRING (77.24312279999999 28.57865, 77.241...   \n",
       "268    NaN  NaN    NaN  LINESTRING (77.24312279999999 28.57865, 77.245...   \n",
       "270    NaN  NaN    NaN  LINESTRING (77.2413954 28.5786133, 77.24312279...   \n",
       "272    NaN  NaN    NaN  LINESTRING (77.2413954 28.5786133, 77.2413382 ...   \n",
       "\n",
       "         highway  key landuse lanes      length  maxspeed  \\\n",
       "241  residential    0     NaN   NaN  302.863721      20.0   \n",
       "266  residential    0     NaN   NaN  168.725184      20.0   \n",
       "268  residential    0     NaN   NaN  682.872896      20.0   \n",
       "270  residential    0     NaN   NaN  168.725184      20.0   \n",
       "272  residential    0     NaN   NaN  302.863721      20.0   \n",
       "\n",
       "                         name  oneway     osmid  ref service tunnel  \\\n",
       "241  Prachin Shiv Mandir Road   False  38116089  NaN     NaN    NaN   \n",
       "266  Prachin Shiv Mandir Road   False  38116089  NaN     NaN    NaN   \n",
       "268  Prachin Shiv Mandir Road   False  38116089  NaN     NaN    NaN   \n",
       "270  Prachin Shiv Mandir Road   False  38116089  NaN     NaN    NaN   \n",
       "272  Prachin Shiv Mandir Road   False  38116089  NaN     NaN    NaN   \n",
       "\n",
       "             u          v width  \n",
       "241  250100205  250100312   NaN  \n",
       "266  250100307  250100312   NaN  \n",
       "268  250100307  448444374   NaN  \n",
       "270  250100312  250100307   NaN  \n",
       "272  250100312  250100205   NaN  "
      ]
     },
     "execution_count": 12,
     "metadata": {},
     "output_type": "execute_result"
    }
   ],
   "source": [
    "gdf_edges.loc[gdf_edges['maxspeed'].notnull()].head(n=5)"
   ]
  },
  {
   "cell_type": "code",
   "execution_count": 13,
   "metadata": {
    "collapsed": true
   },
   "outputs": [],
   "source": [
    "#Getting the minimum maxspeed for each category of highways,"
   ]
  },
  {
   "cell_type": "code",
   "execution_count": 14,
   "metadata": {},
   "outputs": [],
   "source": [
    "dct_min_speed_by_category = dict(gdf_edges.loc[gdf_edges['maxspeed'].notnull()].groupby('highway')['maxspeed'].min())\n",
    "#dct_min_speed_by_category"
   ]
  },
  {
   "cell_type": "markdown",
   "metadata": {},
   "source": [
    "Since we already have representative lowerbound speed limits for each of the categories, we can use this to impute the missing speed limits. Assuming the worst case, I proceed to replace missing maxspeed values with the least maxspeed value seen for that particular category."
   ]
  },
  {
   "cell_type": "code",
   "execution_count": 15,
   "metadata": {
    "collapsed": true
   },
   "outputs": [],
   "source": [
    "for idx, row in gdf_edges.loc[gdf_edges['maxspeed'].isnull()].iterrows():\n",
    "    maxspeed = dct_min_speed_by_category.get(row['highway'], np.nan)\n",
    "    if math.isnan(maxspeed):\n",
    "        try:\n",
    "            combo_types = ast.literal_eval(row['highway'])\n",
    "            maxspeed = min([speed for speed in [dct_min_speed_by_category.get(highwaytype, np.nan) for highwaytype in combo_types] if not math.isnan(speed)])\n",
    "            \n",
    "        except:\n",
    "            pass\n",
    "            \n",
    "    gdf_edges.loc[idx, 'maxspeed'] = maxspeed"
   ]
  },
  {
   "cell_type": "code",
   "execution_count": 16,
   "metadata": {},
   "outputs": [],
   "source": [
    "#gdf_edges.loc[gdf_edges['maxspeed'].isnull()]['highway'].unique()"
   ]
  },
  {
   "cell_type": "markdown",
   "metadata": {},
   "source": [
    "Since primary_link has a speed limit of 40 and tertiary_link 30, we can fix secondary_link to a limit of 35."
   ]
  },
  {
   "cell_type": "code",
   "execution_count": 17,
   "metadata": {
    "collapsed": true
   },
   "outputs": [],
   "source": [
    "dct_min_speed_by_category['secondary_link'] = 35\n",
    "gdf_edges.loc[gdf_edges['highway'] == 'secondary_link', 'maxspeed'] = 35"
   ]
  },
  {
   "cell_type": "markdown",
   "metadata": {},
   "source": [
    "Since the rest of the segments are types, let us assign the lowest limit possible based on the types in the combo. For example, for an [A, B], let us assign min(min(A), min(B))"
   ]
  },
  {
   "cell_type": "markdown",
   "metadata": {},
   "source": [
    "Road is the only type that has no maxspeed. Let us investigate what these segments usually mean."
   ]
  },
  {
   "cell_type": "code",
   "execution_count": 18,
   "metadata": {},
   "outputs": [
    {
     "data": {
      "text/plain": [
       "array([nan, 'Upper gali'], dtype=object)"
      ]
     },
     "execution_count": 18,
     "metadata": {},
     "output_type": "execute_result"
    }
   ],
   "source": [
    "gdf_edges.loc[gdf_edges['highway'] == 'road', 'name'].unique()"
   ]
  },
  {
   "cell_type": "markdown",
   "metadata": {},
   "source": [
    "'Gali' is Hindi equivalent of street, but not as broad as the Hindi designation for broad streets, पथ (transliterated as 'path'). Also, OSM uses 'road' for a varied classification of path segments. So this is possibly a non homogeneous set. For this reason, I am assigning it a level higher than the lowest designation, residential, assigning it a maxspeed of 15. I do not assign it the lowermost designation, as that would mean that residential segments would then have the same preference as roads."
   ]
  },
  {
   "cell_type": "code",
   "execution_count": 19,
   "metadata": {
    "collapsed": true
   },
   "outputs": [],
   "source": [
    "dct_min_speed_by_category['road'] = 15\n",
    "gdf_edges.loc[gdf_edges['highway'] == 'road', 'maxspeed'] = 15"
   ]
  },
  {
   "cell_type": "markdown",
   "metadata": {},
   "source": [
    "Let us construct the time taken to traverse weights,"
   ]
  },
  {
   "cell_type": "code",
   "execution_count": 20,
   "metadata": {
    "collapsed": true
   },
   "outputs": [],
   "source": [
    "gdf_edges['time_to_traverse'] = gdf_edges['length']/ gdf_edges['maxspeed']"
   ]
  },
  {
   "cell_type": "code",
   "execution_count": 21,
   "metadata": {
    "collapsed": true
   },
   "outputs": [],
   "source": [
    "ox.save_load.save_gdf_shapefile(gdf_edges, filename=\"edges_edited.shp\", folder=os.path.join(DATA_FOLDER, 'ncr'))"
   ]
  },
  {
   "cell_type": "markdown",
   "metadata": {},
   "source": [
    "We are now all set to proceed with setting up a Pandana network. We use this network for network related queries such as closest hospital and taxis from crash nodes."
   ]
  },
  {
   "cell_type": "code",
   "execution_count": null,
   "metadata": {
    "collapsed": true
   },
   "outputs": [],
   "source": [
    "twoway = list(~gdf_edges[\"oneway\"].values)\n",
    "pdnet_ncr=pdna.Network(gdf_nodes[\"x\"], gdf_nodes[\"y\"], gdf_edges[\"u\"], gdf_edges[\"v\"],\n",
    "                 gdf_edges[[\"time_to_traverse\"]], twoway=twoway)"
   ]
  },
  {
   "cell_type": "markdown",
   "metadata": {},
   "source": [
    "## Closest Pair matching computation"
   ]
  },
  {
   "cell_type": "markdown",
   "metadata": {},
   "source": [
    "Pandanas allows aggregated network information related queries on road networks with custom points by allowing new 'points of interest' overlayed on the base network. Closest node without any impedence to each of these 'points of interests' are determined, and these base nodes will then be used to compute distances from other nodes with impedence. For example, say we have a POI 'XYZ Hospital' to be added to Delhi network. Pandanas would choose the closest 'as the crow flies' node to this POI and assign this node as this POI's home node. Then, each of the other nodes' distance from it will be calculated from this node, taking account of usual impedences, such as length or maxspeed of edges connecting them. Expanding this to a list of POIs, pandana's one feature is to compute an aggregated list table for all nodes with k closest POIs to them. This table can be used to get closest POIs (say hospitals) from our nodes of interest, (say crash locations)"
   ]
  },
  {
   "cell_type": "markdown",
   "metadata": {},
   "source": [
    "Converting the street network to a pandana network object and adding hospitals as 'POI' to them,"
   ]
  },
  {
   "cell_type": "code",
   "execution_count": 91,
   "metadata": {
    "collapsed": true
   },
   "outputs": [],
   "source": [
    "pdnet_ncr.set_pois(\"hospitals\", 1000000, 3, df_delhi_hospitals['lng'], df_delhi_hospitals['lat'])"
   ]
  },
  {
   "cell_type": "markdown",
   "metadata": {},
   "source": [
    "* To accelerate this step, and since this has a great potential to be done in parallel, we use multiprocessing.\n",
    "* A situation to take note of, when allotting taxis to crashes, is that there can be a timepoint when multiple crashes occur all at once. With non-availability of taxis, the response time should be high. \n",
    "* In order to account for the situation above, we can divide the crashes into multiple chunks for parallel processing in such a way that the crashes between chunks are separated by at least 6 hours.\n",
    "* The present version of code doesn't account for the situation described above."
   ]
  },
  {
   "cell_type": "markdown",
   "metadata": {
    "collapsed": true
   },
   "source": [
    "# Computation system modules:"
   ]
  },
  {
   "cell_type": "markdown",
   "metadata": {},
   "source": [
    "## Google keys repository management:"
   ]
  },
  {
   "cell_type": "markdown",
   "metadata": {},
   "source": [
    "1. A dictionary object is used to keep track of the last time a key was used and number of times it was accessed in the day it was used for the last time.\n",
    "2. Given a list of keys, this module will return a key that either hasn't been used in the past 24 hours, or a key which hasn't been used more than the API limit.\n",
    "3. If no such key is present, this module will make the entire execution process wait till the key with the earliest last access time's quota is renewed. This key will be returned. For example, say we have keys (1, 2, 3) whose quota have all been exhausted. Lets say key 2 has the earliest last call time. So the program will wait for 24 hours after this last call time and return key 2."
   ]
  },
  {
   "cell_type": "markdown",
   "metadata": {},
   "source": [
    "## Get the next weekday: "
   ]
  },
  {
   "cell_type": "markdown",
   "metadata": {},
   "source": [
    "An underlying assumption is that trip durations have weekly and hourly patterns. Since trip duration is fetched from Google Directions API, which does not allow historic travel time requests, and since crash events are all in the past, trip duration calculator module will send requests for days in the future which have the same weekday and time of the day as the crash event. The current logic will post date it to a suitable timepoint within a week from the time the API call is made. For example, if a crash happened on Dec 1, 2016, 9 AM IST, which falls on a Thursday, API call request will have the date set to Mar 1, 2018, 9 AM IST. "
   ]
  },
  {
   "cell_type": "markdown",
   "metadata": {},
   "source": [
    "## Get nearest POIs:"
   ]
  },
  {
   "cell_type": "markdown",
   "metadata": {},
   "source": [
    "**Arguments:** crash list,<br/>\n",
    "&nbsp;&nbsp;&nbsp;&nbsp;&nbsp;&nbsp;&nbsp;&nbsp;&nbsp;&nbsp;&nbsp;&nbsp;&nbsp;&nbsp;&nbsp;&nbsp;&nbsp;&nbsp;&nbsp;&nbsp;&nbsp;Streetnetwork graph,<br/>\n",
    "&nbsp;&nbsp;&nbsp;&nbsp;&nbsp;&nbsp;&nbsp;&nbsp;&nbsp;&nbsp;&nbsp;&nbsp;&nbsp;&nbsp;&nbsp;&nbsp;&nbsp;&nbsp;&nbsp;&nbsp;&nbsp;Poi name (can be hospitals or taxis,<br/>\n",
    "&nbsp;&nbsp;&nbsp;&nbsp;&nbsp;&nbsp;&nbsp;&nbsp;&nbsp;&nbsp;&nbsp;&nbsp;&nbsp;&nbsp;&nbsp;&nbsp;&nbsp;&nbsp;&nbsp;&nbsp;&nbsp;impedence - a measure that determines distance between points,<br/>\n",
    "&nbsp;&nbsp;&nbsp;&nbsp;&nbsp;&nbsp;&nbsp;&nbsp;&nbsp;&nbsp;&nbsp;&nbsp;&nbsp;&nbsp;&nbsp;&nbsp;&nbsp;&nbsp;&nbsp;&nbsp;&nbsp;npoi - number of closest pois to be returned for further analysis with google API,<br/>\n",
    "&nbsp;&nbsp;&nbsp;&nbsp;&nbsp;&nbsp;&nbsp;&nbsp;&nbsp;&nbsp;&nbsp;&nbsp;&nbsp;&nbsp;&nbsp;&nbsp;&nbsp;&nbsp;&nbsp;&nbsp;&nbsp;poi location logs - Taxi logs,<br/>\n",
    "&nbsp;&nbsp;&nbsp;&nbsp;&nbsp;&nbsp;&nbsp;&nbsp;&nbsp;&nbsp;&nbsp;&nbsp;&nbsp;&nbsp;&nbsp;&nbsp;&nbsp;&nbsp;&nbsp;&nbsp;&nbsp;taxi ids - list of taxi ids part of the program<br/>\n",
    "                      \n",
    "\n",
    "**Returns:** npoi - pois for each crash<br/>\n",
    "\n",
    "This submodule matches each crash event with npoi pois which are closest to the crash location. Time taken to travel is the metric used in this calculation. Pandana's spatial aggregation feature that makes use of closest pair of nodes in a graph calculator algorithms makes it easier to arrive at this without resorting to ncrash $*$ ntaxi or  ncrash $*$ nhospital graph distance computations. While closest hospital calculation is straightforward, for taxis, the query set must be restricted to taxis that are available as per the logs prior to the crash event. An important assumption is that the taxi logs are assumed to be at 1 minute frequency, and all taxis report their availability every 1 minute, despite their being on or off service. "
   ]
  },
  {
   "cell_type": "markdown",
   "metadata": {},
   "source": [
    "## Get shortest travel times:"
   ]
  },
  {
   "cell_type": "markdown",
   "metadata": {},
   "source": [
    "**Arguments:** crash & closest poi matches - returned by nearest POI calculator, <br/>\n",
    "&nbsp;&nbsp;&nbsp;&nbsp;&nbsp;&nbsp;&nbsp;&nbsp;&nbsp;&nbsp;&nbsp;&nbsp;&nbsp;&nbsp;&nbsp;&nbsp;&nbsp;&nbsp;&nbsp;&nbsp;&nbsp;dct_key_stats - google API key usage information register,<br/>\n",
    "&nbsp;&nbsp;&nbsp;&nbsp;&nbsp;&nbsp;&nbsp;&nbsp;&nbsp;&nbsp;&nbsp;&nbsp;&nbsp;&nbsp;&nbsp;&nbsp;&nbsp;&nbsp;&nbsp;&nbsp;&nbsp;crash list,<br/>\n",
    "&nbsp;&nbsp;&nbsp;&nbsp;&nbsp;&nbsp;&nbsp;&nbsp;&nbsp;&nbsp;&nbsp;&nbsp;&nbsp;&nbsp;&nbsp;&nbsp;&nbsp;&nbsp;&nbsp;&nbsp;&nbsp;poi logs,<br/>\n",
    "&nbsp;&nbsp;&nbsp;&nbsp;&nbsp;&nbsp;&nbsp;&nbsp;&nbsp;&nbsp;&nbsp;&nbsp;&nbsp;&nbsp;&nbsp;&nbsp;&nbsp;&nbsp;&nbsp;&nbsp;&nbsp;api keys,<br/>\n",
    "&nbsp;&nbsp;&nbsp;&nbsp;&nbsp;&nbsp;&nbsp;&nbsp;&nbsp;&nbsp;&nbsp;&nbsp;&nbsp;&nbsp;&nbsp;&nbsp;&nbsp;&nbsp;&nbsp;&nbsp;&nbsp;api_name - Google Directions,<br/>\n",
    "&nbsp;&nbsp;&nbsp;&nbsp;&nbsp;&nbsp;&nbsp;&nbsp;&nbsp;&nbsp;&nbsp;&nbsp;&nbsp;&nbsp;&nbsp;&nbsp;&nbsp;&nbsp;&nbsp;&nbsp;&nbsp;api_limit - 2500 for Google Directions every 24 hrs,<br/>\n",
    "&nbsp;&nbsp;&nbsp;&nbsp;&nbsp;&nbsp;&nbsp;&nbsp;&nbsp;&nbsp;&nbsp;&nbsp;&nbsp;&nbsp;&nbsp;&nbsp;&nbsp;&nbsp;&nbsp;&nbsp;&nbsp;poi_lat_col - column name in poi log table which has latitude info,<br/>\n",
    "&nbsp;&nbsp;&nbsp;&nbsp;&nbsp;&nbsp;&nbsp;&nbsp;&nbsp;&nbsp;&nbsp;&nbsp;&nbsp;&nbsp;&nbsp;&nbsp;&nbsp;&nbsp;&nbsp;&nbsp;&nbsp;poi_lng_col - column name in poi log table which has longitude info,<br/>\n",
    "&nbsp;&nbsp;&nbsp;&nbsp;&nbsp;&nbsp;&nbsp;&nbsp;&nbsp;&nbsp;&nbsp;&nbsp;&nbsp;&nbsp;&nbsp;&nbsp;&nbsp;&nbsp;&nbsp;&nbsp;&nbsp;poi_id_col - column name in poi log table which has log id<br/>\n",
    "&nbsp;&nbsp;&nbsp;&nbsp;&nbsp;&nbsp;&nbsp;&nbsp;&nbsp;&nbsp;&nbsp;&nbsp;&nbsp;&nbsp;&nbsp;&nbsp;&nbsp;&nbsp;&nbsp;&nbsp;&nbsp;crash list,<br/>\n",
    "                      \n",
    "\n",
    "**Returns** : minimum time required to get to the closest POI from each crach spot. This comprises of 3 possible values, corresponding to 'best_guess', 'optimistic' and 'pessimistic' scenarios.\n",
    "\n",
    "Three API calls are made for each crash - POI pair, to fetch 'best_guess', 'optimistic' and 'pessimistic' times. The shortest times in each scenario, among all the POIs matched to a crash, are returned from this block.\n"
   ]
  },
  {
   "cell_type": "markdown",
   "metadata": {},
   "source": [
    "Putting all the above modules together,"
   ]
  },
  {
   "cell_type": "markdown",
   "metadata": {},
   "source": [
    "![title](Modules.png)"
   ]
  }
 ],
 "metadata": {
  "kernelspec": {
   "display_name": "Python [conda env:gdal2]",
   "language": "python",
   "name": "conda-env-gdal2-py"
  },
  "language_info": {
   "codemirror_mode": {
    "name": "ipython",
    "version": 3
   },
   "file_extension": ".py",
   "mimetype": "text/x-python",
   "name": "python",
   "nbconvert_exporter": "python",
   "pygments_lexer": "ipython3",
   "version": "3.6.2"
  }
 },
 "nbformat": 4,
 "nbformat_minor": 2
}
