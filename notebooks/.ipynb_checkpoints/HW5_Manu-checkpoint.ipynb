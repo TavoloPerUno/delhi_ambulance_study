{
 "cells": [
  {
   "cell_type": "markdown",
   "metadata": {},
   "source": [
    "# Optimization And Simulation Methods For Analytics "
   ]
  },
  {
   "cell_type": "markdown",
   "metadata": {},
   "source": [
    "## Homework 05 "
   ]
  },
  {
   "cell_type": "markdown",
   "metadata": {},
   "source": [
    "## Only Part 1 - 2 is completed"
   ]
  },
  {
   "cell_type": "markdown",
   "metadata": {},
   "source": [
    "### Team: $\\quad \\diamond Sam\\ Lin\\ \\diamond Mohd\\ Kamaludin\\ \\diamond Manorathan\\ Murugesan\\ \\diamond Ifad\\ Noor $"
   ]
  },
  {
   "cell_type": "markdown",
   "metadata": {},
   "source": [
    "### PART 1"
   ]
  },
  {
   "cell_type": "markdown",
   "metadata": {},
   "source": [
    "#### 1 - Write a Julia code for $f(x)$ and $D\\,f(x)$ . Run the Newton-Raphson method and search for the solution. Prepare a table with values for $x,\\ f(x),\\ Df^{-1}(x)$, and $err$ for each iteration. Explain what is happening during the iterations. Is the algorithm converging? Why or why not? Choose your initial values carefully."
   ]
  },
  {
   "cell_type": "markdown",
   "metadata": {},
   "source": [
    "\\begin{align*}\n",
    "f_1(x_1,x_2,x_3)=x_1+x_2+x^2_3-12 &\\\\\n",
    "f_2(x_1,x_2,x_3)=x^2_1-x_2+x_3-2 &\\\\\n",
    "f_3(x_1,x_2,x_3)=2x^2_1-x^2_2+x_3-1 &\\\\\n",
    "\\end{align*}"
   ]
  },
  {
   "cell_type": "code",
   "execution_count": 50,
   "metadata": {},
   "outputs": [
    {
     "data": {
      "text/html": [
       "<table class=\"data-frame\"><thead><tr><th></th><th>k</th><th>x</th><th>f</th><th>invDf1</th><th>invDf2</th><th>err</th></tr></thead><tbody><tr><th>1</th><td>0</td><td>1.0</td><td>-9.0</td><td>0.333333</td><td>-1.66667</td><td>0.333333</td></tr><tr><th>2</th><td>0</td><td>1.0</td><td>-1.0</td><td>0.666667</td><td>-2.33333</td><td>2.66667</td></tr><tr><th>3</th><td>1</td><td>1.33333</td><td>9.0</td><td>-0.0604454</td><td>0.569459</td><td>-0.110993</td></tr><tr><th>4</th><td>1</td><td>3.66667</td><td>0.111111</td><td>-0.0254507</td><td>0.397667</td><td>-1.152</td></tr><tr><th>5</th><td>2</td><td>1.22234</td><td>0.935333</td><td>-0.104801</td><td>0.819474</td><td>-0.151433</td></tr><tr><th>6</th><td>2</td><td>2.51467</td><td>0.0123195</td><td>-0.0635849</td><td>0.745371</td><td>-0.418179</td></tr><tr><th>7</th><td>3</td><td>1.07091</td><td>0.00363523</td><td>-0.141349</td><td>1.14779</td><td>-0.0654716</td></tr><tr><th>8</th><td>3</td><td>2.09649</td><td>0.0229319</td><td>-0.0948151</td><td>1.08311</td><td>-0.0915036</td></tr><tr><th>9</th><td>4</td><td>1.00544</td><td>0.000665247</td><td>-0.156632</td><td>1.30338</td><td>-0.0054099</td></tr><tr><th>10</th><td>4</td><td>2.00499</td><td>0.00428652</td><td>-0.104641</td><td>1.20298</td><td>-0.0049718</td></tr><tr><th>11</th><td>5</td><td>1.00003</td><td>2.62533e-6</td><td>-0.157889</td><td>1.31574</td><td>-2.56355e-5</td></tr><tr><th>12</th><td>5</td><td>2.00002</td><td>2.9267e-5</td><td>-0.105261</td><td>1.2105</td><td>-1.55746e-5</td></tr><tr><th>13</th><td>6</td><td>1.0</td><td>4.13536e-11</td><td>-0.157895</td><td>1.31579</td><td>-4.6331e-10</td></tr><tr><th>14</th><td>6</td><td>2.0</td><td>6.57181e-10</td><td>-0.105263</td><td>1.21053</td><td>-1.70669e-10</td></tr><tr><th>15</th><td>7</td><td>1.0</td><td>0.0</td><td>-0.157895</td><td>1.31579</td><td>1.11022e-16</td></tr><tr><th>16</th><td>7</td><td>2.0</td><td>-2.22045e-16</td><td>-0.105263</td><td>1.21053</td><td>0.0</td></tr></tbody></table>"
      ],
      "text/plain": [
       "16×6 DataFrames.DataFrame\n",
       "│ Row │ k │ x       │ f            │ invDf1     │ invDf2   │ err          │\n",
       "├─────┼───┼─────────┼──────────────┼────────────┼──────────┼──────────────┤\n",
       "│ 1   │ 0 │ 1.0     │ -9.0         │ 0.333333   │ -1.66667 │ 0.333333     │\n",
       "│ 2   │ 0 │ 1.0     │ -1.0         │ 0.666667   │ -2.33333 │ 2.66667      │\n",
       "│ 3   │ 1 │ 1.33333 │ 9.0          │ -0.0604454 │ 0.569459 │ -0.110993    │\n",
       "│ 4   │ 1 │ 3.66667 │ 0.111111     │ -0.0254507 │ 0.397667 │ -1.152       │\n",
       "│ 5   │ 2 │ 1.22234 │ 0.935333     │ -0.104801  │ 0.819474 │ -0.151433    │\n",
       "│ 6   │ 2 │ 2.51467 │ 0.0123195    │ -0.0635849 │ 0.745371 │ -0.418179    │\n",
       "│ 7   │ 3 │ 1.07091 │ 0.00363523   │ -0.141349  │ 1.14779  │ -0.0654716   │\n",
       "│ 8   │ 3 │ 2.09649 │ 0.0229319    │ -0.0948151 │ 1.08311  │ -0.0915036   │\n",
       "│ 9   │ 4 │ 1.00544 │ 0.000665247  │ -0.156632  │ 1.30338  │ -0.0054099   │\n",
       "│ 10  │ 4 │ 2.00499 │ 0.00428652   │ -0.104641  │ 1.20298  │ -0.0049718   │\n",
       "│ 11  │ 5 │ 1.00003 │ 2.62533e-6   │ -0.157889  │ 1.31574  │ -2.56355e-5  │\n",
       "│ 12  │ 5 │ 2.00002 │ 2.9267e-5    │ -0.105261  │ 1.2105   │ -1.55746e-5  │\n",
       "│ 13  │ 6 │ 1.0     │ 4.13536e-11  │ -0.157895  │ 1.31579  │ -4.6331e-10  │\n",
       "│ 14  │ 6 │ 2.0     │ 6.57181e-10  │ -0.105263  │ 1.21053  │ -1.70669e-10 │\n",
       "│ 15  │ 7 │ 1.0     │ 0.0          │ -0.157895  │ 1.31579  │ 1.11022e-16  │\n",
       "│ 16  │ 7 │ 2.0     │ -2.22045e-16 │ -0.105263  │ 1.21053  │ 0.0          │"
      ]
     },
     "execution_count": 50,
     "metadata": {},
     "output_type": "execute_result"
    }
   ],
   "source": [
    "using DataFrames\n",
    "\n",
    "tol = 10.0^(-10)\n",
    "err = 10.0^5\n",
    "x0 = [1.0; 1.0; 1.0]\n",
    "\n",
    "x = copy(x0)\n",
    "\n",
    "function f1(x)\n",
    "    [(x[1]    + x[2]   + x[3]^2 - 12);\n",
    "     (x[1]^2  - x[2]   + x[3]   - 2);\n",
    "    2*x[1]^2-x[2]^2+x[3]-1]\n",
    "end\n",
    "\n",
    "function Df1(x)\n",
    "    [1       1       2*x[3];\n",
    "     2*x[1] -1      1;\n",
    "     4*x[1] -2*x[2] 1]   \n",
    "end\n",
    "\n",
    "k = 0\n",
    "resual = DataFrame(k=NaN,x=NaN,f=NaN,invDf1=NaN,invDf2=NaN,err=NaN)\n",
    "\n",
    "while err>tol\n",
    "    x = x0 - inv(Df1(x0))*f1(x0)\n",
    "    err = maximum(abs.(x-x0))\n",
    "    if k==0\n",
    "        resual = DataFrame(k=k,x=x0[1,1],f=f1(x0)[1,1],invDf1=inv(Df1(x0))[1,1],invDf2=inv(Df1(x0))[1,2],err=x[1,1]-x0[1,1])\n",
    "        push!(resual, ([k,x0[2,1],f1(x0)[2,1],inv(Df1(x0))[2,1],inv(Df1(x0))[2,2],x[2,1]-x0[2,1]]))\n",
    "    else\n",
    "        push!(resual, ([k,x0[1,1],f1(x0)[1,1],inv(Df1(x0))[1,1],inv(Df1(x0))[1,2],x[1,1]-x0[1,1]]))\n",
    "        push!(resual, ([k,x0[2,1],f1(x0)[2,1],inv(Df1(x0))[2,1],inv(Df1(x0))[2,2],x[2,1]-x0[2,1]]))\n",
    "    end\n",
    "    x0 = x\n",
    "    k = k + 1\n",
    "end\n",
    "resual"
   ]
  },
  {
   "cell_type": "markdown",
   "metadata": {},
   "source": [
    "#### 2 - Derive the analytical version of the Newton-Raphson algorithm (including $f(x)$ and $f'(x)$ ) for each expression below (separately). For each expression below, implement the Newton-Raphson algorithm, and find at least one root for each non-linear function below. Also plot $f(x)$ around the solution(s). Prepare a data table with values for $x,\\ f(x)\\ f'(x)$, and $err$ for each iteration."
   ]
  },
  {
   "cell_type": "markdown",
   "metadata": {},
   "source": [
    "$\\begin{align*}\n",
    "&\\bullet 3x^2-2x-4=0 \\\\\n",
    "&\\bullet x-e^{-x^2}=0 \\\\\n",
    "&\\bullet e^x-x^4=0 \\\\\n",
    "\\end{align*}$"
   ]
  },
  {
   "cell_type": "markdown",
   "metadata": {},
   "source": [
    "$\\begin{align*}\n",
    "&\\bullet 3x^2-2x-4=0\n",
    "\\end{align*}$"
   ]
  },
  {
   "cell_type": "code",
   "execution_count": 14,
   "metadata": {},
   "outputs": [
    {
     "data": {
      "image/png": "[encoded data removed]",
      "text/plain": [
       "PyPlot.Figure(PyObject <matplotlib.figure.Figure object at 0x131343d90>)"
      ]
     },
     "metadata": {},
     "output_type": "display_data"
    },
    {
     "data": {
      "text/plain": [
       "1-element Array{PyCall.PyObject,1}:\n",
       " PyObject <matplotlib.lines.Line2D object at 0x131486850>"
      ]
     },
     "execution_count": 14,
     "metadata": {},
     "output_type": "execute_result"
    }
   ],
   "source": [
    "using PyPlot\n",
    "\n",
    "x2 = collect(-4:.1:4)\n",
    "f2 = 3*(x2).^2 - 2*x2 - 4\n",
    "\n",
    "fig, ax = subplots()\n",
    "ax[:plot](x2,f2,color=\"red\",linewidth=2,label=L\"f(x)=3x^{2} - 2x - 4\",alpha=1)\n",
    "ax[:legend](loc=\"upper right\")\n",
    "ax[:plot](x2,zeros(length(x2)),color=\"black\",linewidth=2,label=L\"\",alpha=0.3)"
   ]
  },
  {
   "cell_type": "code",
   "execution_count": 15,
   "metadata": {},
   "outputs": [
    {
     "data": {
      "text/html": [
       "<table class=\"data-frame\"><thead><tr><th></th><th>k</th><th>x</th><th>f</th><th>fp</th><th>err</th></tr></thead><tbody><tr><th>1</th><td>0</td><td>0.1</td><td>-4.17</td><td>-1.4</td><td>2.97857</td></tr><tr><th>2</th><td>1</td><td>-2.87857</td><td>26.6157</td><td>-19.2714</td><td>1.38109</td></tr><tr><th>3</th><td>2</td><td>-1.49748</td><td>5.72227</td><td>-10.9849</td><td>0.520923</td></tr><tr><th>4</th><td>3</td><td>-0.976554</td><td>0.814082</td><td>-7.85932</td><td>0.103582</td></tr><tr><th>5</th><td>4</td><td>-0.872972</td><td>0.0321875</td><td>-7.23783</td><td>0.00444711</td></tr><tr><th>6</th><td>5</td><td>-0.868525</td><td>5.93305e-5</td><td>-7.21115</td><td>8.2276e-6</td></tr></tbody></table>"
      ],
      "text/plain": [
       "6×5 DataFrames.DataFrame\n",
       "│ Row │ k │ x         │ f          │ fp       │ err        │\n",
       "├─────┼───┼───────────┼────────────┼──────────┼────────────┤\n",
       "│ 1   │ 0 │ 0.1       │ -4.17      │ -1.4     │ 2.97857    │\n",
       "│ 2   │ 1 │ -2.87857  │ 26.6157    │ -19.2714 │ 1.38109    │\n",
       "│ 3   │ 2 │ -1.49748  │ 5.72227    │ -10.9849 │ 0.520923   │\n",
       "│ 4   │ 3 │ -0.976554 │ 0.814082   │ -7.85932 │ 0.103582   │\n",
       "│ 5   │ 4 │ -0.872972 │ 0.0321875  │ -7.23783 │ 0.00444711 │\n",
       "│ 6   │ 5 │ -0.868525 │ 5.93305e-5 │ -7.21115 │ 8.2276e-6  │"
      ]
     },
     "execution_count": 15,
     "metadata": {},
     "output_type": "execute_result"
    }
   ],
   "source": [
    "using DataFrames\n",
    "\n",
    "tol = 10.0^(-5)\n",
    "err = 10.0^5\n",
    "x0 = 0.1\n",
    "\n",
    "function f21(x2)\n",
    "    3*(x2).^2 - 2*x2 - 4\n",
    "end\n",
    "function fp21(x2)\n",
    "    6*x2 - 2\n",
    "end\n",
    "\n",
    "k = 0\n",
    "resual = DataFrame(k=NaN,x=NaN,f=NaN,fp=NaN,err=NaN)\n",
    "\n",
    "while err>tol\n",
    "    x = x0 - f21(x0)/fp21(x0)\n",
    "    err = abs(x-x0)\n",
    "    if k==0\n",
    "        resual = DataFrame(k=k,x=x0,f=f21(x0),fp=fp21(x0),err=err)\n",
    "    else\n",
    "        push!(resual, ([k,x0,f21(x0),fp21(x0),err]))\n",
    "    end\n",
    "    x0 = x\n",
    "    k = k + 1\n",
    "end\n",
    "resual"
   ]
  },
  {
   "cell_type": "markdown",
   "metadata": {},
   "source": [
    "$\\begin{align*}\n",
    "&\\bullet x-e^{-x^2}=0\n",
    "\\end{align*}$"
   ]
  },
  {
   "cell_type": "code",
   "execution_count": 20,
   "metadata": {},
   "outputs": [
    {
     "data": {
      "image/png": "[encoded data removed]",
      "text/plain": [
       "PyPlot.Figure(PyObject <matplotlib.figure.Figure object at 0x1317c0350>)"
      ]
     },
     "metadata": {},
     "output_type": "display_data"
    },
    {
     "data": {
      "text/plain": [
       "1-element Array{PyCall.PyObject,1}:\n",
       " PyObject <matplotlib.lines.Line2D object at 0x131944f90>"
      ]
     },
     "execution_count": 20,
     "metadata": {},
     "output_type": "execute_result"
    }
   ],
   "source": [
    "using PyPlot\n",
    "\n",
    "x2 = collect(-2:.1:2)\n",
    "f2 = x2 -e.^(-x2.^2)\n",
    "\n",
    "fig, ax = subplots()\n",
    "ax[:plot](x2,f2,color=\"red\",linewidth=2,label=L\"f(x)=x - e^{-x^{2}}\",alpha=1)\n",
    "ax[:legend](loc=\"upper left\")\n",
    "ax[:plot](x2,zeros(length(x2)),color=\"black\",linewidth=2,label=L\"\",alpha=0.3)"
   ]
  },
  {
   "cell_type": "code",
   "execution_count": 17,
   "metadata": {},
   "outputs": [
    {
     "data": {
      "text/html": [
       "<table class=\"data-frame\"><thead><tr><th></th><th>k</th><th>x</th><th>f</th><th>fp</th><th>err</th></tr></thead><tbody><tr><th>1</th><td>0</td><td>0.1</td><td>-0.89005</td><td>1.19801</td><td>0.74294</td></tr><tr><th>2</th><td>1</td><td>0.84294</td><td>0.351566</td><td>1.8284</td><td>0.192281</td></tr><tr><th>3</th><td>2</td><td>0.65066</td><td>-0.00418438</td><td>1.85216</td><td>0.00225919</td></tr><tr><th>4</th><td>3</td><td>0.652919</td><td>5.05268e-7</td><td>1.85261</td><td>2.72734e-7</td></tr></tbody></table>"
      ],
      "text/plain": [
       "4×5 DataFrames.DataFrame\n",
       "│ Row │ k │ x        │ f           │ fp      │ err        │\n",
       "├─────┼───┼──────────┼─────────────┼─────────┼────────────┤\n",
       "│ 1   │ 0 │ 0.1      │ -0.89005    │ 1.19801 │ 0.74294    │\n",
       "│ 2   │ 1 │ 0.84294  │ 0.351566    │ 1.8284  │ 0.192281   │\n",
       "│ 3   │ 2 │ 0.65066  │ -0.00418438 │ 1.85216 │ 0.00225919 │\n",
       "│ 4   │ 3 │ 0.652919 │ 5.05268e-7  │ 1.85261 │ 2.72734e-7 │"
      ]
     },
     "execution_count": 17,
     "metadata": {},
     "output_type": "execute_result"
    }
   ],
   "source": [
    "using DataFrames\n",
    "\n",
    "tol = 10.0^(-5)\n",
    "err = 10.0^5\n",
    "x0 = 0.1\n",
    "\n",
    "function f21(x2)\n",
    "    x2 -e.^(-x2.^2)\n",
    "end\n",
    "function fp21(x2)\n",
    "    2 * e.^(-x2.^2) * x2 + 1\n",
    "end\n",
    "\n",
    "k = 0\n",
    "resual = DataFrame(k=NaN,x=NaN,f=NaN,fp=NaN,err=NaN)\n",
    "\n",
    "while err>tol\n",
    "    x = x0 - f21(x0)/fp21(x0)\n",
    "    err = abs(x-x0)\n",
    "    if k==0\n",
    "        resual = DataFrame(k=k,x=x0,f=f21(x0),fp=fp21(x0),err=err)\n",
    "    else\n",
    "        push!(resual, ([k,x0,f21(x0),fp21(x0),err]))\n",
    "    end\n",
    "    x0 = x\n",
    "    k = k + 1\n",
    "end\n",
    "resual"
   ]
  },
  {
   "cell_type": "markdown",
   "metadata": {},
   "source": [
    "$\\begin{align*}\n",
    "&\\bullet e^x-x^4=0\n",
    "\\end{align*}$"
   ]
  },
  {
   "cell_type": "code",
   "execution_count": 19,
   "metadata": {},
   "outputs": [
    {
     "data": {
      "image/png": "[encoded data removed]",
      "text/plain": [
       "PyPlot.Figure(PyObject <matplotlib.figure.Figure object at 0x131670750>)"
      ]
     },
     "metadata": {},
     "output_type": "display_data"
    },
    {
     "data": {
      "text/plain": [
       "1-element Array{PyCall.PyObject,1}:\n",
       " PyObject <matplotlib.lines.Line2D object at 0x1317e43d0>"
      ]
     },
     "execution_count": 19,
     "metadata": {},
     "output_type": "execute_result"
    }
   ],
   "source": [
    "using PyPlot\n",
    "\n",
    "x2 = collect(-3:.1:3)\n",
    "f2 = e.^x2 - x2.^4\n",
    "\n",
    "fig, ax = subplots()\n",
    "ax[:plot](x2,f2,color=\"red\",linewidth=2,label=L\"f(x)=e^{x} - x^{4}\",alpha=1)\n",
    "ax[:legend](loc=\"lower right\")\n",
    "ax[:plot](x2,zeros(length(x2)),color=\"black\",linewidth=2,label=L\"\",alpha=0.3)"
   ]
  },
  {
   "cell_type": "code",
   "execution_count": 22,
   "metadata": {},
   "outputs": [
    {
     "data": {
      "text/html": [
       "<table class=\"data-frame\"><thead><tr><th></th><th>k</th><th>x</th><th>f</th><th>fp</th><th>err</th></tr></thead><tbody><tr><th>1</th><td>0</td><td>0.1</td><td>1.10507</td><td>1.10117</td><td>1.00354</td></tr><tr><th>2</th><td>1</td><td>-0.903542</td><td>-0.261356</td><td>3.35569</td><td>0.0778845</td></tr><tr><th>3</th><td>2</td><td>-0.825657</td><td>-0.0267812</td><td>2.68938</td><td>0.00995813</td></tr><tr><th>4</th><td>3</td><td>-0.815699</td><td>-0.00038057</td><td>2.61328</td><td>0.000145629</td></tr><tr><th>5</th><td>4</td><td>-0.815553</td><td>-7.99649e-8</td><td>2.61218</td><td>3.06123e-8</td></tr></tbody></table>"
      ],
      "text/plain": [
       "5×5 DataFrames.DataFrame\n",
       "│ Row │ k │ x         │ f           │ fp      │ err         │\n",
       "├─────┼───┼───────────┼─────────────┼─────────┼─────────────┤\n",
       "│ 1   │ 0 │ 0.1       │ 1.10507     │ 1.10117 │ 1.00354     │\n",
       "│ 2   │ 1 │ -0.903542 │ -0.261356   │ 3.35569 │ 0.0778845   │\n",
       "│ 3   │ 2 │ -0.825657 │ -0.0267812  │ 2.68938 │ 0.00995813  │\n",
       "│ 4   │ 3 │ -0.815699 │ -0.00038057 │ 2.61328 │ 0.000145629 │\n",
       "│ 5   │ 4 │ -0.815553 │ -7.99649e-8 │ 2.61218 │ 3.06123e-8  │"
      ]
     },
     "execution_count": 22,
     "metadata": {},
     "output_type": "execute_result"
    }
   ],
   "source": [
    "using DataFrames\n",
    "\n",
    "tol = 10.0^(-5)\n",
    "err = 10.0^5\n",
    "x0 = 0.1\n",
    "\n",
    "function f21(x2)\n",
    "    e.^x2 - x2.^4\n",
    "end\n",
    "function fp21(x2)\n",
    "    e.^x2 - 4 * x2.^3\n",
    "end\n",
    "\n",
    "k = 0\n",
    "resual = DataFrame(k=NaN,x=NaN,f=NaN,fp=NaN,err=NaN)\n",
    "\n",
    "while err>tol\n",
    "    x = x0 - f21(x0)/fp21(x0)\n",
    "    err = abs(x-x0)\n",
    "    if k==0\n",
    "        resual = DataFrame(k=k,x=x0,f=f21(x0),fp=fp21(x0),err=err)\n",
    "    else\n",
    "        push!(resual, ([k,x0,f21(x0),fp21(x0),err]))\n",
    "    end\n",
    "    x0 = x\n",
    "    k = k + 1\n",
    "end\n",
    "resual"
   ]
  },
  {
   "cell_type": "markdown",
   "metadata": {},
   "source": [
    "#### 3 - Suppose you were provided the following cash flows for three different projects. "
   ]
  },
  {
   "cell_type": "markdown",
   "metadata": {},
   "source": [
    "| Project | t0 | t1 | t2 | t3 | t4 | t5 |\n",
    "|----|---|---|---|---|---|---|\n",
    "|A|-1000|60|60|60|60|1060|\n",
    "|B|-990|60|60|60|60|1060|\n",
    "|C|-1020|60|60|60|60|1060|"
   ]
  },
  {
   "cell_type": "markdown",
   "metadata": {},
   "source": [
    "#### i. Find the internal rate of return for these project using the bisection method"
   ]
  },
  {
   "cell_type": "code",
   "execution_count": 57,
   "metadata": {},
   "outputs": [
    {
     "name": "stdout",
     "output_type": "stream",
     "text": [
      "Bisection result\n",
      "0.060000061988830566\n",
      "Iterations\n",
      "23×4 DataFrames.DataFrame\n",
      "│ Row │ a         │ b         │ c         │ err         │\n",
      "├─────┼───────────┼───────────┼───────────┼─────────────┤\n",
      "│ 1   │ -1.0      │ 2.0       │ 0.5       │ 3.0         │\n",
      "│ 2   │ -1.0      │ 0.5       │ -0.25     │ 1.5         │\n",
      "│ 3   │ -0.25     │ 0.5       │ 0.125     │ 0.75        │\n",
      "│ 4   │ -0.25     │ 0.125     │ -0.0625   │ 0.375       │\n",
      "│ 5   │ -0.0625   │ 0.125     │ 0.03125   │ 0.1875      │\n",
      "│ 6   │ 0.03125   │ 0.125     │ 0.078125  │ 0.09375     │\n",
      "│ 7   │ 0.03125   │ 0.078125  │ 0.0546875 │ 0.046875    │\n",
      "│ 8   │ 0.0546875 │ 0.078125  │ 0.0664063 │ 0.0234375   │\n",
      "│ 9   │ 0.0546875 │ 0.0664063 │ 0.0605469 │ 0.0117188   │\n",
      "│ 10  │ 0.0546875 │ 0.0605469 │ 0.0576172 │ 0.00585938  │\n",
      "│ 11  │ 0.0576172 │ 0.0605469 │ 0.059082  │ 0.00292969  │\n",
      "│ 12  │ 0.059082  │ 0.0605469 │ 0.0598145 │ 0.00146484  │\n",
      "│ 13  │ 0.0598145 │ 0.0605469 │ 0.0601807 │ 0.000732422 │\n",
      "│ 14  │ 0.0598145 │ 0.0601807 │ 0.0599976 │ 0.000366211 │\n",
      "│ 15  │ 0.0599976 │ 0.0601807 │ 0.0600891 │ 0.000183105 │\n",
      "│ 16  │ 0.0599976 │ 0.0600891 │ 0.0600433 │ 9.15527e-5  │\n",
      "│ 17  │ 0.0599976 │ 0.0600433 │ 0.0600204 │ 4.57764e-5  │\n",
      "│ 18  │ 0.0599976 │ 0.0600204 │ 0.060009  │ 2.28882e-5  │\n",
      "│ 19  │ 0.0599976 │ 0.060009  │ 0.0600033 │ 1.14441e-5  │\n",
      "│ 20  │ 0.0599976 │ 0.0600033 │ 0.0600004 │ 5.72205e-6  │\n",
      "│ 21  │ 0.0599976 │ 0.0600004 │ 0.059999  │ 2.86102e-6  │\n",
      "│ 22  │ 0.059999  │ 0.0600004 │ 0.0599997 │ 1.43051e-6  │\n",
      "│ 23  │ 0.0599997 │ 0.0600004 │ 0.0600001 │ 7.15256e-7  │\n"
     ]
    }
   ],
   "source": [
    "using DataFrames\n",
    "\n",
    "function ff(r)\n",
    "   60/(1+r) + 60/(1+r).^2 + 60/(1+r).^3 + 60/(1+r).^4 + 1060/(1+r).^5 - 1000\n",
    "end\n",
    "\n",
    "function bisec(f::Function,a::Float64,b::Float64,tol::Float64)\n",
    "    if a>=b\n",
    "        error(\"a must be less than b\") \n",
    "    end\n",
    "    if f(a)*f(b) > 0\n",
    "        error(\"signs of f(a) and f(b) are not opposites\") \n",
    "    end\n",
    "    i = 1\n",
    "    err=b-a\n",
    "    c=(a+b)/2\n",
    "    resual = DataFrame(a=a,b=b,c=c,err=err)\n",
    "    while err>tol\n",
    "        if f(c)==0.0\n",
    "            break\n",
    "        end\n",
    "        if f(a)*f(c)<0\n",
    "            a=a\n",
    "            b=c\n",
    "        else\n",
    "            a=c\n",
    "            b=b\n",
    "        end\n",
    "        c=(a+b)/2\n",
    "        err=b-a\n",
    "        i = i + 1\n",
    "        push!(resual, ([a,b,c,err]))\n",
    "    end\n",
    "    return c, resual\n",
    "end\n",
    "c, resual = bisec(ff,-1.0,2.0,1e-6);\n",
    "println(\"Bisection result\")\n",
    "println(c)\n",
    "println(\"Iterations\")\n",
    "println(resual)"
   ]
  },
  {
   "cell_type": "markdown",
   "metadata": {},
   "source": [
    "### PART 2 "
   ]
  },
  {
   "cell_type": "markdown",
   "metadata": {},
   "source": [
    "#### 1 - Consider the following optimization problem:"
   ]
  },
  {
   "cell_type": "markdown",
   "metadata": {},
   "source": [
    "\\begin{align*}\n",
    "\\max_x \\qquad x^{0.5}_1x^{0.5}_2 &\\\\\n",
    "0.5x_1+x_2=1 &\\\\\n",
    "s.t. \\qquad x_1, x_2\\geq 0 &\\\\\n",
    "\\end{align*}"
   ]
  },
  {
   "cell_type": "markdown",
   "metadata": {},
   "source": [
    "##### A. Rewrite the above as an unconstraint problem (use the linear constraint to substitute out $x_2$) "
   ]
  },
  {
   "cell_type": "markdown",
   "metadata": {
    "collapsed": true
   },
   "source": [
    "\\begin{align*}\n",
    "\\max_x \\qquad x^{0.5}(1-0.5x)^{0.5} &\\\\\n",
    "s.t. \\qquad x = [0,2] &\\\\\n",
    "\\end{align*}"
   ]
  },
  {
   "cell_type": "markdown",
   "metadata": {},
   "source": [
    "###### i. Plots the objective function for the feasible range for $x_1$. "
   ]
  },
  {
   "cell_type": "code",
   "execution_count": 79,
   "metadata": {},
   "outputs": [
    {
     "ename": "LoadError",
     "evalue": "\u001b[91mDimensionMismatch(\"Cannot multiply two vectors\")\u001b[39m",
     "output_type": "error",
     "traceback": [
      "\u001b[91mDimensionMismatch(\"Cannot multiply two vectors\")\u001b[39m",
      "",
      "Stacktrace:",
      " [1] \u001b[1m*\u001b[22m\u001b[22m\u001b[1m(\u001b[22m\u001b[22m::Array{Complex{Float64},1}, ::Array{Complex{Float64},1}\u001b[1m)\u001b[22m\u001b[22m at \u001b[1m./linalg/rowvector.jl:184\u001b[22m\u001b[22m",
      " [2] \u001b[1minclude_string\u001b[22m\u001b[22m\u001b[1m(\u001b[22m\u001b[22m::String, ::String\u001b[1m)\u001b[22m\u001b[22m at \u001b[1m./loading.jl:522\u001b[22m\u001b[22m"
     ]
    }
   ],
   "source": [
    "using PyPlot\n",
    "\n",
    "x4 = collect(-3:.1:3)\n",
    "f4 = (x4+0im).^0.5 * (1 - 0.5*x4+0im).^0.5\n",
    "\n",
    "fig, ax = subplots()\n",
    "ax[:plot](x4,f4,color=\"red\",linewidth=2,label=L\"f(x)=e^{x} - x^{4}\",alpha=1)\n",
    "ax[:legend](loc=\"lower right\")\n",
    "ax[:plot](x4,zeros(length(x4)),color=\"black\",linewidth=2,label=L\"\",alpha=0.3)"
   ]
  },
  {
   "cell_type": "markdown",
   "metadata": {},
   "source": [
    "###### ii. Write down the first order condition and find the solution (assume an interior solution). "
   ]
  },
  {
   "cell_type": "markdown",
   "metadata": {},
   "source": [
    "###### iii. Derive the second derivative of the objective function at the optimal. "
   ]
  },
  {
   "cell_type": "markdown",
   "metadata": {},
   "source": [
    "###### iv. Evaluate the second derivative at the optimal value of $x_1$ and for the entire feasible range. Plots your results. "
   ]
  },
  {
   "cell_type": "markdown",
   "metadata": {},
   "source": [
    "###### v. Find the solution using a Optim package, and the GoldenSection() solver option. "
   ]
  },
  {
   "cell_type": "markdown",
   "metadata": {},
   "source": [
    "##### B. Write out the lagrange of the original optimization problem "
   ]
  },
  {
   "cell_type": "markdown",
   "metadata": {},
   "source": [
    "###### i. Derive the first order conditions "
   ]
  },
  {
   "cell_type": "markdown",
   "metadata": {},
   "source": [
    "###### ii. Solve the first order conditions and find the lagranger multiplier value "
   ]
  },
  {
   "cell_type": "markdown",
   "metadata": {},
   "source": [
    "##### C. Find the solution to the original problem using Julia's NLopt and the LD_SLSQP Solver. "
   ]
  },
  {
   "cell_type": "markdown",
   "metadata": {},
   "source": [
    "#### 3 - Write out the Taylor expansion of the function $f(x)=e^x$, include the first six components. Plot the function $f(x)=e^x$ and its first, second, third, forth, and fifth order approximation in the range $[0,2]$. "
   ]
  },
  {
   "cell_type": "markdown",
   "metadata": {},
   "source": [
    "Taylor's series expansion of a function f(x) at a point a is,\n",
    "$$f(x)=f(a) +\\frac{f'^(a)}{1!}(x-a)+\\frac{f''^(a)}{2!}(x-a)^2+{f'''^(a)}{3!}(x-a)^3+\\ldots$$"
   ]
  },
  {
   "cell_type": "markdown",
   "metadata": {},
   "source": [
    "For $e(x)$, \n",
    "$$e(x) = 1 + x + \\frac{x^2}{2!} + \\frac{x^3}{3!} + \\frac{x^4}{4!} + \\frac{x^5}{5!} + \\ldots$$"
   ]
  },
  {
   "cell_type": "code",
   "execution_count": 65,
   "metadata": {},
   "outputs": [
    {
     "data": {
      "text/plain": [
       "approx_exp_by_order (generic function with 1 method)"
      ]
     },
     "execution_count": 65,
     "metadata": {},
     "output_type": "execute_result"
    }
   ],
   "source": [
    "function approx_exp_by_order(x, n)\n",
    "    return(convert(Int8, n > 0) * sum([(x ^ (n-1) / factorial(n-1)) for n in 1:n]))\n",
    "#     return (if n < 1 0 else (x ^ (n-1) / factorial(n-1) + approx_exp_by_order(x, n-1)) end)\n",
    "end"
   ]
  },
  {
   "cell_type": "code",
   "execution_count": 81,
   "metadata": {},
   "outputs": [
    {
     "data": {
      "image/png": "[encoded data removed]",
      "text/plain": [
       "PyPlot.Figure(PyObject <matplotlib.figure.Figure object at 0x1367779b0>)"
      ]
     },
     "metadata": {},
     "output_type": "display_data"
    },
    {
     "data": {
      "text/plain": [
       "PyObject <matplotlib.legend.Legend object at 0x130dd90b8>"
      ]
     },
     "execution_count": 81,
     "metadata": {},
     "output_type": "execute_result"
    }
   ],
   "source": [
    "x = collect(0:0.01:2)\n",
    "fig, ax = subplots()\n",
    "\n",
    "ax[:plot](x,approx_exp_by_order.(x, 2),color=\"violet\",linewidth=2,label=L\"f(x)=1 + x\",alpha=1)\n",
    "ax[:plot](x,approx_exp_by_order.(x, 3),color=\"indigo\",linewidth=2,label=L\"f(x)=1 + x + \\frac{x^2}{2!}\",alpha=1)\n",
    "ax[:plot](x,approx_exp_by_order.(x, 4),color=\"blue\",linewidth=2,label=L\"f(x)=1 + x + \\frac{x^2}{2!} + \\frac{x^3}{3!}\",alpha=1)\n",
    "ax[:plot](x,approx_exp_by_order.(x, 5),color=\"green\",linewidth=2,label=L\"f(x)=1 + x + \\frac{x^2}{2!} + \\frac{x^3}{3!} + \\frac{x^4}{4!}\",alpha=1)\n",
    "ax[:plot](x,approx_exp_by_order.(x, 6),color=\"yellow\",linewidth=2,label=L\"f(x)=1 + x + \\frac{x^2}{2!} + \\frac{x^3}{3!} + \\frac{x^4}{4!} + \\frac{x^5}{5!}\",alpha=1)\n",
    "ax[:plot](x,approx_exp_by_order.(x, 7),color=\"orange\",linewidth=2,label=L\"f(x)=1 + x + \\frac{x^2}{2!} + \\frac{x^3}{3!} + \\frac{x^4}{4!} + \\frac{x^5}{5!} + \\frac{x^6}{6!}\",alpha=1)\n",
    "ax[:plot](x,exp.(x),color=\"red\",linewidth=2,label=L\"f(x)=e^x\",alpha=1)\n",
    "ax[:legend](loc=\"upper left\")\n"
   ]
  },
  {
   "cell_type": "markdown",
   "metadata": {},
   "source": [
    "#### 4 - Find the implied volatility (s) for the following stocks using the Black-Scholes-Merton option pricing formula for an European call option: "
   ]
  },
  {
   "cell_type": "markdown",
   "metadata": {},
   "source": [
    "|Stocks|S0|K|T|r|s|C|\n",
    "|---|---|---|---|---|---|---|\n",
    "|A|50|50|250|0.00008|?|4.4580|\n",
    "|B|50|50|250|0.00016|?|4.0143|\n",
    "|B|50|60|250|0.00016|?|3.2961|"
   ]
  },
  {
   "cell_type": "markdown",
   "metadata": {},
   "source": [
    "#### where $S_0$ is the current price of the stock, $K$ is the strike price of the European call option, $T$ is the time to expiration in days, $r$ is the 1-day risk-free rate, $s$ is the daily standard deviation of the stock price, and $C$ is the price of the European call option.  \n",
    "#### Hint: Recall the Black-Scholes-Merton option pricing formula for an European call option is: $$C(S_0,K,T,r,s)=S_0\\Phi(d_1)-Ke^{-rT}\\Phi(d_2)$$ where \n",
    "\\begin{align*}\n",
    "&d_1=\\frac{log(S_0/K)+(r+0.5s^2)T}{s\\sqrt{T}}\\\\\n",
    "&d_2=d_1-s\\sqrt{T} \\\\\n",
    "\\end{align*}"
   ]
  },
  {
   "cell_type": "markdown",
   "metadata": {
    "collapsed": true
   },
   "source": [
    "The equation for option price as a function of the known volatility is,\n",
    "$$V(s) = S N[d1] − K e^{−rT} N[d2]$$\n",
    "\n",
    "where\n",
    "\\begin{align*}\n",
    "&d_1=\\frac{ln(S_0/K)+(r+0.5s^2)T}{s\\sqrt{T}}\\\\\n",
    "&d_2=d_1-s\\sqrt{T} \\\\\n",
    "&N[z]= \\int_{-\\inf}^z \\frac{1}{\\sqrt{2\\pi}} e^{-\\frac{1}{2} z^2} \\partial{z}\\\\\n",
    "\\end{align*}"
   ]
  },
  {
   "cell_type": "markdown",
   "metadata": {},
   "source": [
    "The derivative of price Equation with respect to volatility, commonly referred to as vega, is,\n",
    "$$V'(s) = S \\sqrt{\\frac{T}{2\\pi}} e^{-\\frac{(ln(\\frac{S_0}{K}) + (r + \\frac{s^2}{2})T)^2}{2 s^2 T}}$$"
   ]
  },
  {
   "cell_type": "markdown",
   "metadata": {},
   "source": [
    "Since our prerogative is to find the value s, with a known V(s) value, we can use Newton Raphson method with approximations for s as $\\hat{s}$,  with the problem formulated as, $$s = \\hat{s} + \\frac{V(s) - V(\\hat{s})}{V'(\\hat{s})} $$"
   ]
  },
  {
   "cell_type": "code",
   "execution_count": 3,
   "metadata": {},
   "outputs": [
    {
     "name": "stderr",
     "output_type": "stream",
     "text": [
      "\u001b[1m\u001b[36mINFO: \u001b[39m\u001b[22m\u001b[36mPrecompiling module SpecialFunctions.\n",
      "\u001b[39m\u001b[1m\u001b[36mINFO: \u001b[39m\u001b[22m\u001b[36mRecompiling stale cache file /Users/manu/.julia/lib/v0.6/StatsFuns.ji for module StatsFuns.\n",
      "\u001b[39m\u001b[1m\u001b[36mINFO: \u001b[39m\u001b[22m\u001b[36mRecompiling stale cache file /Users/manu/.julia/lib/v0.6/Distributions.ji for module Distributions.\n",
      "\u001b[39m\u001b[1m\u001b[36mINFO: \u001b[39m\u001b[22m\u001b[36mRecompiling stale cache file /Users/manu/.julia/lib/v0.6/DataFrames.ji for module DataFrames.\n",
      "\u001b[39m"
     ]
    }
   ],
   "source": [
    "using Distributions;\n",
    "using DataFrames;"
   ]
  },
  {
   "cell_type": "code",
   "execution_count": 4,
   "metadata": {},
   "outputs": [
    {
     "data": {
      "text/html": [
       "<table class=\"data-frame\"><thead><tr><th></th><th>Stocks</th><th>S0</th><th>K</th><th>T</th><th>r</th><th>C</th></tr></thead><tbody><tr><th>1</th><td>A</td><td>50</td><td>50</td><td>250</td><td>8.0e-5</td><td>4.458</td></tr><tr><th>2</th><td>B</td><td>50</td><td>50</td><td>250</td><td>0.00016</td><td>4.0143</td></tr><tr><th>3</th><td>B</td><td>50</td><td>60</td><td>250</td><td>0.00016</td><td>3.2961</td></tr></tbody></table>"
      ],
      "text/plain": [
       "3×6 DataFrames.DataFrame\n",
       "│ Row │ Stocks │ S0 │ K  │ T   │ r       │ C      │\n",
       "├─────┼────────┼────┼────┼─────┼─────────┼────────┤\n",
       "│ 1   │ \"A\"    │ 50 │ 50 │ 250 │ 8.0e-5  │ 4.458  │\n",
       "│ 2   │ \"B\"    │ 50 │ 50 │ 250 │ 0.00016 │ 4.0143 │\n",
       "│ 3   │ \"B\"    │ 50 │ 60 │ 250 │ 0.00016 │ 3.2961 │"
      ]
     },
     "execution_count": 4,
     "metadata": {},
     "output_type": "execute_result"
    }
   ],
   "source": [
    "df_options = DataFrame(Stocks=[\"A\", \"B\", \"B\"], S0=[50, 50, 50], K=[50,50,60], T=[250, 250, 250], r=[0.00008, 0.00016, 0.00016], C=[4.4580, 4.0143, 3.2961])"
   ]
  },
  {
   "cell_type": "code",
   "execution_count": 5,
   "metadata": {},
   "outputs": [
    {
     "data": {
      "text/plain": [
       "implied_vol (generic function with 1 method)"
      ]
     },
     "execution_count": 5,
     "metadata": {},
     "output_type": "execute_result"
    }
   ],
   "source": [
    "function normcdf(x::number) where {number <: Number}\n",
    "    return (1.0+erf(x/sqrt(2.0)))/2.0;\n",
    "end\n",
    "\n",
    "function normpdf(x::number) where {number <: Number}\n",
    "    return exp(-0.5*x.^2)/sqrt(2*pi);\n",
    "end\n",
    "function d1(S0, K, T, r, s)\n",
    "    (log(S0/K)+(r+s*s*0.5)*T)/(s*sqrt(T))\n",
    "end\n",
    "function d2(S0, K, T, r, s)\n",
    "    d1(S0, K, T, r, s)-s*sqrt(T)\n",
    "end\n",
    "function black_scholes_price(S0, K, T, r, s)\n",
    "    S0*normcdf(d1(S0, K, T, r, s))-K*exp(-r*T)*normcdf(d1(S0, K, T, r, s)-s*sqrt(T))\n",
    "end\n",
    "function vega(S0, K, T, r, s)\n",
    "    S0*normpdf(d1(S0, K, T, r, s))*sqrt(T)\n",
    "end\n",
    "function implied_vol(S0, K, T, r, Price)\n",
    "    tol = 1e-10\n",
    "    resual = DataFrame(k=NaN,shat=NaN,Pricehat=NaN,Vegahat=NaN,err=NaN)\n",
    "    s0 = sqrt(2*pi/T)*Price/S0\n",
    "    k = 0\n",
    "    err = abs(Price - black_scholes_price(S0, K, T, r, s0))\n",
    "    while err>tol\n",
    "        s0 = s0 - (black_scholes_price(S0, K, T, r, s0) - Price)/vega(S0, K, T, r, s0)\n",
    "        if k==0\n",
    "            resual = DataFrame(k=k,shat=s0,Price=black_scholes_price(S0, K, T, r, s0), Vegahat=vega(S0, K, T, r, s0),err=err)\n",
    "        else\n",
    "            push!(resual, @data([k,s0,black_scholes_price(S0, K, T, r, s0),vega(S0, K, T, r, s0),err]))\n",
    "        end\n",
    "        k = k + 1\n",
    "        err = abs(Price - black_scholes_price(S0, K, T, r, s0))\n",
    "#         print(\"k: \" * string(k) * \" err: \" * string(err) * \" s0: \" * string(s0))\n",
    "    end\n",
    "    print(resual)\n",
    "    return s0\n",
    "end"
   ]
  },
  {
   "cell_type": "code",
   "execution_count": 6,
   "metadata": {},
   "outputs": [
    {
     "name": "stdout",
     "output_type": "stream",
     "text": [
      "2×5 DataFrames.DataFrame\n",
      "│ Row │ k │ shat     │ Price │ Vegahat │ err        │\n",
      "├─────┼───┼──────────┼───────┼─────────┼────────────┤\n",
      "│ 1   │ 0 │ 0.270534 │ 4.458 │ 16.4048 │ 0.00801245 │\n",
      "│ 2   │ 1 │ 0.270534 │ 4.458 │ 16.4048 │ 9.05317e-8 │2×5 DataFrames.DataFrame\n",
      "│ Row │ k │ shat     │ Price  │ Vegahat │ err        │\n",
      "├─────┼───┼──────────┼────────┼─────────┼────────────┤\n",
      "│ 1   │ 0 │ 0.243426 │ 4.0143 │ 16.4239 │ 0.00424334 │\n",
      "│ 2   │ 1 │ 0.243426 │ 4.0143 │ 16.4239 │ 2.28316e-8 │4×5 DataFrames.DataFrame\n",
      "│ Row │ k │ shat     │ Price   │ Vegahat │ err       │\n",
      "├─────┼───┼──────────┼─────────┼─────────┼───────────┤\n",
      "│ 1   │ 0 │ 0.472779 │ 4.42759 │ 15.9172 │ 2.67977   │\n",
      "│ 2   │ 1 │ 0.401693 │ 3.31451 │ 15.3475 │ 1.13149   │\n",
      "│ 3   │ 2 │ 0.400494 │ 3.29611 │ 15.3349 │ 0.0184059 │\n",
      "│ 4   │ 3 │ 0.400493 │ 3.2961  │ 15.3349 │ 7.5184e-6 │"
     ]
    }
   ],
   "source": [
    "s = []\n",
    "for r in eachrow(df_options) \n",
    "#     print([r[:S0], r[:K], r[:T]/365, r[:r], r[:C]])\n",
    "    push!(s, implied_vol(r[:S0], r[:K], r[:T]/365, r[:r], r[:C]))\n",
    "end "
   ]
  },
  {
   "cell_type": "code",
   "execution_count": 7,
   "metadata": {},
   "outputs": [
    {
     "data": {
      "text/html": [
       "<table class=\"data-frame\"><thead><tr><th></th><th>Stocks</th><th>S0</th><th>K</th><th>T</th><th>r</th><th>C</th><th>impliedVol</th></tr></thead><tbody><tr><th>1</th><td>A</td><td>50</td><td>50</td><td>250</td><td>8.0e-5</td><td>4.458</td><td>0.27053359113340564</td></tr><tr><th>2</th><td>B</td><td>50</td><td>50</td><td>250</td><td>0.00016</td><td>4.0143</td><td>0.2434262277977683</td></tr><tr><th>3</th><td>B</td><td>50</td><td>60</td><td>250</td><td>0.00016</td><td>3.2961</td><td>0.40049322631308637</td></tr></tbody></table>"
      ],
      "text/plain": [
       "3×7 DataFrames.DataFrame\n",
       "│ Row │ Stocks │ S0 │ K  │ T   │ r       │ C      │ impliedVol │\n",
       "├─────┼────────┼────┼────┼─────┼─────────┼────────┼────────────┤\n",
       "│ 1   │ \"A\"    │ 50 │ 50 │ 250 │ 8.0e-5  │ 4.458  │ 0.270534   │\n",
       "│ 2   │ \"B\"    │ 50 │ 50 │ 250 │ 0.00016 │ 4.0143 │ 0.243426   │\n",
       "│ 3   │ \"B\"    │ 50 │ 60 │ 250 │ 0.00016 │ 3.2961 │ 0.400493   │"
      ]
     },
     "execution_count": 7,
     "metadata": {},
     "output_type": "execute_result"
    }
   ],
   "source": [
    "df_options[:impliedVol] = s\n",
    "df_options"
   ]
  },
  {
   "cell_type": "code",
   "execution_count": null,
   "metadata": {
    "collapsed": true
   },
   "outputs": [],
   "source": []
  }
 ],
 "metadata": {
  "anaconda-cloud": {},
  "kernelspec": {
   "display_name": "Julia 0.6.2",
   "language": "julia",
   "name": "julia-0.6"
  },
  "language_info": {
   "file_extension": ".jl",
   "mimetype": "application/julia",
   "name": "julia",
   "version": "0.6.2"
  }
 },
 "nbformat": 4,
 "nbformat_minor": 1
}
